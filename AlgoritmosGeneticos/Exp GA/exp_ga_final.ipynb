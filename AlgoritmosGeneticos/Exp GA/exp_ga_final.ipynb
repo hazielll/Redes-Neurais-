{
 "cells": [
  {
   "cell_type": "markdown",
   "id": "b795d6e2-8f0c-48aa-a613-62c8a5d0de40",
   "metadata": {
    "id": "b795d6e2-8f0c-48aa-a613-62c8a5d0de40"
   },
   "source": [
    "## Comparando as performances\n",
    "\n"
   ]
  },
  {
   "cell_type": "markdown",
   "id": "95bb0736-c207-439e-9462-1cd52cf9f2d6",
   "metadata": {
    "id": "95bb0736-c207-439e-9462-1cd52cf9f2d6"
   },
   "source": [
    "**Objetivo**: Compare a performance de três algoritmos diferentes de otimização (busca aleatória, busca em grade e algoritmos genéticos) para resolver o problema das caixas binárias.\n",
    "\n",
    "**Lembrete**: nós estudamos performance de algoritmos durante lógica computacional.\n",
    "\n",
    "**Dica**: O enunciado do objetivo não definiu o número de caixas. É esperado de um cientista que ele entenda que não adianta resolver esse problema para apenas um valor de $n$ caixas, mas sim buscar uma tendência resolvendo esse problema para alguns valores de $n$ diferentes. Fique atento pois essa dica não será mais dada a partir de agora mesmo que seja necessário usar desse bom senso científico em problemas futuros.\n",
    "\n",
    "**Dica 2**: Lembre-se de que o único algoritmo determinístico dos três sendo estudados é o de busca em grade. Sendo assim, é esperado que um cientista entenda que situações não-determinísticas demandam o uso de estatística para quantificar um valor médio de performance e seu desvio. Novamente, fique atento pois essa dica não será mais dada a partir de agora.\n",
    "\n",
    "**Nome do arquivo**: &ldquo;experimento GA.02 - performance caixas binarias&rdquo;\n",
    "\n"
   ]
  },
  {
   "cell_type": "markdown",
   "id": "50b1857a-af34-4552-8127-ffc08ddb597b",
   "metadata": {
    "id": "50b1857a-af34-4552-8127-ffc08ddb597b"
   },
   "source": [
    "<hr>\n",
    "\n"
   ]
  },
  {
   "cell_type": "markdown",
   "id": "22a4f294-be9c-44d6-92c5-e4183439a7d0",
   "metadata": {
    "id": "22a4f294-be9c-44d6-92c5-e4183439a7d0"
   },
   "source": [
    "## Importações"
   ]
  },
  {
   "cell_type": "markdown",
   "id": "0842a086-72d0-4a63-8296-a1ae20e19c85",
   "metadata": {
    "id": "0842a086-72d0-4a63-8296-a1ae20e19c85"
   },
   "source": [
    "Neste caso, terei que importar todos os códigos utilizados nos primeiros três experimentos, visto que o nosso objetivo é comparar a performance deles."
   ]
  },
  {
   "cell_type": "code",
   "execution_count": 1,
   "id": "28cf9c0a-4b5a-4116-8c15-e34135a2f1e0",
   "metadata": {
    "id": "28cf9c0a-4b5a-4116-8c15-e34135a2f1e0"
   },
   "outputs": [],
   "source": [
    "from funcoes import individuo_cb, funcao_objetivo_cb\n",
    "import time\n",
    "import itertools\n",
    "import random\n",
    "import matplotlib.pyplot as plt\n",
    "from deap import base, creator, tools, algorithms\n",
    "from funcoes import populacao_cb as cria_populacao_cb\n",
    "from funcoes import funcao_objetivo_pop_cb as funcao_objetivo_pop\n",
    "from funcoes import funcao_objetivo_cb as funcao_objetivo\n",
    "from funcoes import selecao_roleta_max as funcao_selecao\n",
    "from funcoes import cruzamento_ponto_simples as funcao_cruzamento\n",
    "from funcoes import mutacao_cb as funcao_mutacao\n",
    "########## SPOILER: OTIMIZAÇÃO? ##########\n",
    "import timeit\n",
    "import numpy as np\n",
    "from timeit import Timer"
   ]
  },
  {
   "cell_type": "markdown",
   "id": "bd2f0a87-c48d-4476-9fb0-c2905262e902",
   "metadata": {
    "id": "bd2f0a87-c48d-4476-9fb0-c2905262e902"
   },
   "source": [
    "## Códigos e discussão\n",
    "O experimento entregue a primeiro momento não foi realizado com foco no objetivo \"verdadeiro\" do problema proposto.\n",
    "Dessa forma, eu e o professor julgamos melhor que eu refaça o exercício agora com uma meta bem definida. \n",
    "A seguir, estão as resoluções para o problema das caixas binárias com o uso de: busca aleatória (30 iterações), busca em grade (1 \"repetição\" = 30 repetições) e algoritmo genético (também 30 iterações, as quais são dadas pelo produto entre o número de gerações e o tamanho da população)."
   ]
  },
  {
   "cell_type": "markdown",
   "id": "3e8237a6-fb5f-46b6-b62c-7d788320c7bb",
   "metadata": {
    "id": "3e8237a6-fb5f-46b6-b62c-7d788320c7bb"
   },
   "source": [
    "#### Problema 1 "
   ]
  },
  {
   "cell_type": "code",
   "execution_count": 2,
   "id": "aKeqPqfqZV1Z",
   "metadata": {
    "id": "aKeqPqfqZV1Z"
   },
   "outputs": [
    {
     "name": "stdout",
     "output_type": "stream",
     "text": [
      "Exemplo de lista com 4 espaços aleatórios\n",
      "[1, 1, 0, 1]\n",
      "\n",
      "Exemplo de uso da função soma_espacos\n",
      "3\n",
      "\n",
      "Melhor combinação de caixas após 1000 iterações: [1, 1, 1, 1, 1]\n",
      "Soma dos valores contidos nas caixas: 5\n"
     ]
    }
   ],
   "source": [
    "def espaco_total(n_de_espacos):\n",
    "    espacos = [random.randint(0, 1) for _ in range(n_de_espacos)]\n",
    "    return espacos\n",
    "# Primeiro, definimos a função responsável por criar a lista com um determinado número de caixas, ou, como eu prefiro chamá-los, espaços.\n",
    "# Com isso, criamos uma variável chamada espacos, a qual será uma lista que contém determinado número de elementos, os quais\n",
    "# podem receber valores entre zero e um, por meio do método `random.randint`.\n",
    "# Finalmente, a função retornará essa lista. Segue um exemplo:\n",
    "\n",
    "teste = espaco_total(4)\n",
    "print(\"Exemplo de lista com 4 espaços aleatórios\")\n",
    "print(teste)\n",
    "print()\n",
    "\n",
    "\n",
    "def soma_espacos(espacos):\n",
    "    soma = sum(espacos)\n",
    "    return soma\n",
    "# A seguir, definimos uma função que será responsável por retornar a soma dos elementos dentro da lista \"espacos\"\n",
    "# Segue um exemplo:\n",
    "\n",
    "print(\"Exemplo de uso da função soma_espacos\")\n",
    "print(soma_espacos(teste))\n",
    "print()\n",
    "\n",
    "\n",
    "\n",
    "def busca_aleatoria(num_iteracoes, n_de_espacos):\n",
    "    melhor_soma = 0\n",
    "    melhor_caixa = []\n",
    "    for i in range(num_iteracoes):\n",
    "        espaco_atual = espaco_total(n_de_espacos)\n",
    "        soma_atual = soma_espacos(espaco_atual)\n",
    "        if soma_atual > melhor_soma:\n",
    "            melhor_soma = soma_atual\n",
    "            melhor_caixa = espaco_atual\n",
    "    return melhor_caixa, melhor_soma\n",
    "# Agora, vamos criar uma nova função que utilize as outras funções que criamos a fim de tentar resolver \n",
    "# o problema da \"caixa binária\" de forma generalizada.\n",
    "# Começamos definindo uma variável de valor zero chamada \"melhor_soma\", e \n",
    "# uma chamada \"melhor_caixa\", a qual é uma lsita vazia. Após isso, iniciamos\n",
    "# um for loop, no qual iremos iterar uma variável um número de i vezes pela extensão de \n",
    "# determinada constante, chamada de num_iteracoes, cujo nome é autoexplicativo.\n",
    "# Com isso, criamos uma nova variável, espaco_atual, a qual irá receber o valor \n",
    "# da função `espaco_total(n_de_espacos)`. De maneira semelhante, a variável soma_atual\n",
    "# receberá o valor de `soma_espacos(espaco_atual)`.\n",
    "# Após isso, fazemos um condicional if, o qual verifica que, se a soma atual for \n",
    "# maior que a melhor_soma, a melhor_soma será substituída pela soma_atual,\n",
    "# de maneira semelhante, se a soma atual for maior que a melhor_soma, a \n",
    "# variável melhor_caixa será substituída pelo espaco_atual.\n",
    "# Finalmente, a nossa função irá retornar esses valores substituídos. Segue um exemplo:\n",
    "\n",
    "num_iteracoes = 1000\n",
    "n_de_espacos = 5\n",
    "melhor_caixa, melhor_soma = busca_aleatoria(num_iteracoes, n_de_espacos)\n",
    "print(f\"Melhor combinação de caixas após {num_iteracoes} iterações: {melhor_caixa}\")\n",
    "print(F\"Soma dos valores contidos nas caixas: {melhor_soma}\")"
   ]
  },
  {
   "cell_type": "code",
   "execution_count": 3,
   "id": "f6cecada-40b7-43ca-beac-5090f46abe86",
   "metadata": {},
   "outputs": [
    {
     "name": "stdout",
     "output_type": "stream",
     "text": [
      "0.000094\n",
      "A maior soma alcançada após 30 iterações foi de: 2\n"
     ]
    }
   ],
   "source": [
    "iteracoes_exp = 30\n",
    "espacos_ex = 2\n",
    "EXECS = 5\n",
    "tempo_total = 0\n",
    "START = time.perf_counter()\n",
    "for i in range(EXECS):\n",
    "    \n",
    "\n",
    "    melhor_caixa, melhor_soma = busca_aleatoria(iteracoes_exp, espacos_ex)\n",
    "\n",
    "END = time.perf_counter()\n",
    "tempo_total = (END - START)\n",
    "    \n",
    "MEDIA_BA0 = (tempo_total / EXECS)\n",
    "\n",
    "print(f\"{MEDIA_BA0:7f}\")\n",
    "print(f\"A maior soma alcançada após {iteracoes_exp} iterações foi de: {melhor_soma}\")"
   ]
  },
  {
   "cell_type": "code",
   "execution_count": 4,
   "id": "TkRUiJd9STNZ",
   "metadata": {
    "id": "TkRUiJd9STNZ"
   },
   "outputs": [
    {
     "name": "stdout",
     "output_type": "stream",
     "text": [
      "0.000308\n",
      "A maior soma alcançada após 30 iterações foi de: 5\n"
     ]
    }
   ],
   "source": [
    "iteracoes_exp = 30\n",
    "espacos_ex = 5\n",
    "EXECS = 5\n",
    "tempo_total = 0\n",
    "START = time.perf_counter()\n",
    "for i in range(EXECS):\n",
    "    \n",
    "\n",
    "    melhor_caixa, melhor_soma = busca_aleatoria(iteracoes_exp, espacos_ex)\n",
    "\n",
    "END = time.perf_counter()\n",
    "tempo_total = (END - START)\n",
    "    \n",
    "MEDIA_BA1 = (tempo_total / EXECS)\n",
    "\n",
    "print(f\"{MEDIA_BA1:7f}\")\n",
    "print(f\"A maior soma alcançada após {iteracoes_exp} iterações foi de: {melhor_soma}\")"
   ]
  },
  {
   "cell_type": "code",
   "execution_count": 5,
   "id": "39b68ec3-0839-4bb8-acda-d119e81b6e81",
   "metadata": {},
   "outputs": [
    {
     "name": "stdout",
     "output_type": "stream",
     "text": [
      "0.000955\n",
      "A maior soma alcançada após 30 iterações foi de: 9\n"
     ]
    }
   ],
   "source": [
    "iteracoes_exp = 30\n",
    "espacos_ex = 10\n",
    "EXECS = 5\n",
    "tempo_total = 0\n",
    "START = time.perf_counter()\n",
    "for i in range(EXECS):\n",
    "    \n",
    "\n",
    "    melhor_caixa, melhor_soma = busca_aleatoria(iteracoes_exp, espacos_ex)\n",
    "\n",
    "END = time.perf_counter()\n",
    "tempo_total = (END - START)\n",
    "    \n",
    "MEDIA_BA2 = (tempo_total / EXECS)\n",
    "\n",
    "print(f\"{MEDIA_BA2:7f}\")\n",
    "print(f\"A maior soma alcançada após {iteracoes_exp} iterações foi de: {melhor_soma}\")"
   ]
  },
  {
   "cell_type": "code",
   "execution_count": 6,
   "id": "aa529be0-12dc-41b2-9b46-1d31263ebef2",
   "metadata": {},
   "outputs": [
    {
     "name": "stdout",
     "output_type": "stream",
     "text": [
      "0.001122\n",
      "A maior soma alcançada após 30 iterações foi de: 11\n"
     ]
    }
   ],
   "source": [
    "iteracoes_exp = 30\n",
    "espacos_ex = 15\n",
    "EXECS = 5\n",
    "tempo_total = 0\n",
    "START = time.perf_counter()\n",
    "for i in range(EXECS):\n",
    "    \n",
    "\n",
    "    melhor_caixa, melhor_soma = busca_aleatoria(iteracoes_exp, espacos_ex)\n",
    "\n",
    "END = time.perf_counter()\n",
    "tempo_total = (END - START)\n",
    "    \n",
    "MEDIA_BA3 = (tempo_total / EXECS)\n",
    "\n",
    "print(f\"{MEDIA_BA3:7f}\")\n",
    "print(f\"A maior soma alcançada após {iteracoes_exp} iterações foi de: {melhor_soma}\")"
   ]
  },
  {
   "cell_type": "code",
   "execution_count": 7,
   "id": "8cd73409-7419-45d5-9a7e-a99a2f34a13b",
   "metadata": {},
   "outputs": [
    {
     "name": "stdout",
     "output_type": "stream",
     "text": [
      "0.001228\n",
      "A maior soma alcançada após 30 iterações foi de: 15\n"
     ]
    }
   ],
   "source": [
    "iteracoes_exp = 30\n",
    "espacos_ex = 20\n",
    "EXECS = 5\n",
    "tempo_total = 0\n",
    "START = time.perf_counter()\n",
    "for i in range(EXECS):\n",
    "    \n",
    "\n",
    "    melhor_caixa, melhor_soma = busca_aleatoria(iteracoes_exp, espacos_ex)\n",
    "\n",
    "END = time.perf_counter()\n",
    "tempo_total = (END - START)\n",
    "    \n",
    "MEDIA_BA4 = (tempo_total / EXECS)\n",
    "\n",
    "print(f\"{MEDIA_BA4:7f}\")\n",
    "print(f\"A maior soma alcançada após {iteracoes_exp} iterações foi de: {melhor_soma}\")"
   ]
  },
  {
   "cell_type": "code",
   "execution_count": 8,
   "id": "2b9675ef-52c0-42ac-9f64-6dc496a24a78",
   "metadata": {},
   "outputs": [
    {
     "data": {
      "image/png": "[encoded data removed]",
      "text/plain": [
       "<Figure size 432x288 with 1 Axes>"
      ]
     },
     "metadata": {
      "needs_background": "light"
     },
     "output_type": "display_data"
    }
   ],
   "source": [
    "y = lista_medias = [MEDIA_BA0, MEDIA_BA1, MEDIA_BA2, MEDIA_BA3, MEDIA_BA4]\n",
    "x = lista_espacos = [2, 5, 10, 15, 20]\n",
    "plt.plot(x,y, '-o')\n",
    "plt.xlabel('Número de espaços na caixa')\n",
    "plt.ylabel('Média do tempo - 7 Casas decimais')\n",
    "plt.title('Performance')\n",
    "plt.grid(True)\n",
    "plt.show()"
   ]
  },
  {
   "cell_type": "code",
   "execution_count": 9,
   "id": "d306ee18-8be1-4711-b6f0-efe97f998a8f",
   "metadata": {},
   "outputs": [],
   "source": [
    "def recursao_ba(num_iteracoes,n_de_espacos):\n",
    "    melhor_soma = 0\n",
    "    melhor_caixa = []\n",
    "    #\n",
    "            \n",
    "    while melhor_soma != n_de_espacos:\n",
    "        espaco_atual = espaco_total(n_de_espacos)\n",
    "        soma_atual = soma_espacos(espaco_atual)\n",
    "        if soma_atual > melhor_soma:\n",
    "            melhor_soma = soma_atual\n",
    "            melhor_caixa = espaco_atual\n",
    "    \n",
    "    return melhor_caixa, melhor_soma\n"
   ]
  },
  {
   "cell_type": "code",
   "execution_count": 23,
   "id": "bb8ddcc4-5ec8-4b43-8528-646308d4e9d6",
   "metadata": {},
   "outputs": [
    {
     "name": "stdout",
     "output_type": "stream",
     "text": [
      " O experimento demorou um total de 2.2544201999999984 segundos\n"
     ]
    }
   ],
   "source": [
    "EXECS = 1\n",
    "tempo_total = 0\n",
    "START = time.perf_counter()\n",
    "for i in range(EXECS):\n",
    "    recursao_ba(5,19)\n",
    "\n",
    "END = time.perf_counter()\n",
    "tempo_total = (END - START)\n",
    "    \n",
    "MEDIA_BA_W = (tempo_total / EXECS)\n",
    "\n",
    "\n",
    "#print(recursao_ba(5,20))\n",
    "print(f\" O experimento demorou um total de {MEDIA_BA_W} segundos\")"
   ]
  },
  {
   "cell_type": "markdown",
   "id": "5d493d5b-589f-4e7b-acb5-cb30b41fd72b",
   "metadata": {},
   "source": [
    "media do tempo=> y \n",
    "enquanto o eixo x vai ser o numero de caixas/espacos\n",
    "buscar inspiração na senha do alg gen."
   ]
  },
  {
   "cell_type": "markdown",
   "id": "619741e1-2e33-4d59-93ce-29ff3dec637a",
   "metadata": {
    "id": "619741e1-2e33-4d59-93ce-29ff3dec637a"
   },
   "source": [
    "Vale lembrar que o objetivo deste primeiro algoritmo usado é encontrar o maior resultado da soma das casas da nossa caixa binária. Ele faz isso através de tentativa e erro, por isso, o esperado é que o tempo que ele demora para ser executado irá aumentar conforme mais casas e/ou mais possibilidades de números nessas casas (mas o problema não seria uma caixa binária nesse caso)."
   ]
  },
  {
   "cell_type": "markdown",
   "id": "5e560d68-bf8d-43a0-9198-4eaf27c02b55",
   "metadata": {
    "id": "5e560d68-bf8d-43a0-9198-4eaf27c02b55"
   },
   "source": [
    "#### Problema 2"
   ]
  },
  {
   "cell_type": "code",
   "execution_count": 11,
   "id": "dngeQ6h7wDck",
   "metadata": {
    "id": "dngeQ6h7wDck"
   },
   "outputs": [
    {
     "name": "stdout",
     "output_type": "stream",
     "text": [
      "O tempo necessário para realizar o experimento foi de: 0.0000273 segundos\n"
     ]
    }
   ],
   "source": [
    "import time\n",
    "import itertools\n",
    "\n",
    "EXECS = 1\n",
    "tempo_total = 0\n",
    "\n",
    "for i in range(EXECS):\n",
    "    START = time.perf_counter()\n",
    "\n",
    "    for individuo in itertools.product([0, 1], repeat=5):\n",
    "        fobj = funcao_objetivo(individuo) #- 1\n",
    "        # vou deixar o print dos individuos obtidos para ver o erro (+1) que está acontecendo\n",
    "        #print(individuo, fobj)\n",
    "\n",
    "    END = time.perf_counter()\n",
    "    tempo_total += (END - START)\n",
    "\n",
    "MEDIA_A = (tempo_total / EXECS)\n",
    "print(f\"O tempo necessário para realizar o experimento foi de: {MEDIA_A:.7f} segundos\")"
   ]
  },
  {
   "cell_type": "code",
   "execution_count": 12,
   "id": "32d9456d-0cba-4d68-8a83-d96e4e6bdd19",
   "metadata": {
    "tags": []
   },
   "outputs": [
    {
     "name": "stdout",
     "output_type": "stream",
     "text": [
      "(0, 0, 0, 0, 0) 1\n",
      "(0, 0, 0, 0, 1) 2\n",
      "(0, 0, 0, 1, 0) 2\n",
      "(0, 0, 0, 1, 1) 3\n",
      "(0, 0, 1, 0, 0) 2\n",
      "(0, 0, 1, 0, 1) 3\n",
      "(0, 0, 1, 1, 0) 3\n",
      "(0, 0, 1, 1, 1) 4\n",
      "(0, 1, 0, 0, 0) 2\n",
      "(0, 1, 0, 0, 1) 3\n",
      "(0, 1, 0, 1, 0) 3\n",
      "(0, 1, 0, 1, 1) 4\n",
      "(0, 1, 1, 0, 0) 3\n",
      "(0, 1, 1, 0, 1) 4\n",
      "(0, 1, 1, 1, 0) 4\n",
      "(0, 1, 1, 1, 1) 5\n",
      "(1, 0, 0, 0, 0) 2\n",
      "(1, 0, 0, 0, 1) 3\n",
      "(1, 0, 0, 1, 0) 3\n",
      "(1, 0, 0, 1, 1) 4\n",
      "(1, 0, 1, 0, 0) 3\n",
      "(1, 0, 1, 0, 1) 4\n",
      "(1, 0, 1, 1, 0) 4\n",
      "(1, 0, 1, 1, 1) 5\n",
      "(1, 1, 0, 0, 0) 3\n",
      "(1, 1, 0, 0, 1) 4\n",
      "(1, 1, 0, 1, 0) 4\n",
      "(1, 1, 0, 1, 1) 5\n",
      "(1, 1, 1, 0, 0) 4\n",
      "(1, 1, 1, 0, 1) 5\n",
      "(1, 1, 1, 1, 0) 5\n",
      "(1, 1, 1, 1, 1) 6\n",
      "(0, 0, 0, 0, 0) 1\n",
      "(0, 0, 0, 0, 1) 2\n",
      "(0, 0, 0, 1, 0) 2\n",
      "(0, 0, 0, 1, 1) 3\n",
      "(0, 0, 1, 0, 0) 2\n",
      "(0, 0, 1, 0, 1) 3\n",
      "(0, 0, 1, 1, 0) 3\n",
      "(0, 0, 1, 1, 1) 4\n",
      "(0, 1, 0, 0, 0) 2\n",
      "(0, 1, 0, 0, 1) 3\n",
      "(0, 1, 0, 1, 0) 3\n",
      "(0, 1, 0, 1, 1) 4\n",
      "(0, 1, 1, 0, 0) 3\n",
      "(0, 1, 1, 0, 1) 4\n",
      "(0, 1, 1, 1, 0) 4\n",
      "(0, 1, 1, 1, 1) 5\n",
      "(1, 0, 0, 0, 0) 2\n",
      "(1, 0, 0, 0, 1) 3\n",
      "(1, 0, 0, 1, 0) 3\n",
      "(1, 0, 0, 1, 1) 4\n",
      "(1, 0, 1, 0, 0) 3\n",
      "(1, 0, 1, 0, 1) 4\n",
      "(1, 0, 1, 1, 0) 4\n",
      "(1, 0, 1, 1, 1) 5\n",
      "(1, 1, 0, 0, 0) 3\n",
      "(1, 1, 0, 0, 1) 4\n",
      "(1, 1, 0, 1, 0) 4\n",
      "(1, 1, 0, 1, 1) 5\n",
      "(1, 1, 1, 0, 0) 4\n",
      "(1, 1, 1, 0, 1) 5\n",
      "(1, 1, 1, 1, 0) 5\n",
      "(1, 1, 1, 1, 1) 6\n",
      "(0, 0, 0, 0, 0) 1\n",
      "(0, 0, 0, 0, 1) 2\n",
      "(0, 0, 0, 1, 0) 2\n",
      "(0, 0, 0, 1, 1) 3\n",
      "(0, 0, 1, 0, 0) 2\n",
      "(0, 0, 1, 0, 1) 3\n",
      "(0, 0, 1, 1, 0) 3\n",
      "(0, 0, 1, 1, 1) 4\n",
      "(0, 1, 0, 0, 0) 2\n",
      "(0, 1, 0, 0, 1) 3\n",
      "(0, 1, 0, 1, 0) 3\n",
      "(0, 1, 0, 1, 1) 4\n",
      "(0, 1, 1, 0, 0) 3\n",
      "(0, 1, 1, 0, 1) 4\n",
      "(0, 1, 1, 1, 0) 4\n",
      "(0, 1, 1, 1, 1) 5\n",
      "(1, 0, 0, 0, 0) 2\n",
      "(1, 0, 0, 0, 1) 3\n",
      "(1, 0, 0, 1, 0) 3\n",
      "(1, 0, 0, 1, 1) 4\n",
      "(1, 0, 1, 0, 0) 3\n",
      "(1, 0, 1, 0, 1) 4\n",
      "(1, 0, 1, 1, 0) 4\n",
      "(1, 0, 1, 1, 1) 5\n",
      "(1, 1, 0, 0, 0) 3\n",
      "(1, 1, 0, 0, 1) 4\n",
      "(1, 1, 0, 1, 0) 4\n",
      "(1, 1, 0, 1, 1) 5\n",
      "(1, 1, 1, 0, 0) 4\n",
      "(1, 1, 1, 0, 1) 5\n",
      "(1, 1, 1, 1, 0) 5\n",
      "(1, 1, 1, 1, 1) 6\n",
      "(0, 0, 0, 0, 0) 1\n",
      "(0, 0, 0, 0, 1) 2\n",
      "(0, 0, 0, 1, 0) 2\n",
      "(0, 0, 0, 1, 1) 3\n",
      "(0, 0, 1, 0, 0) 2\n",
      "(0, 0, 1, 0, 1) 3\n",
      "(0, 0, 1, 1, 0) 3\n",
      "(0, 0, 1, 1, 1) 4\n",
      "(0, 1, 0, 0, 0) 2\n",
      "(0, 1, 0, 0, 1) 3\n",
      "(0, 1, 0, 1, 0) 3\n",
      "(0, 1, 0, 1, 1) 4\n",
      "(0, 1, 1, 0, 0) 3\n",
      "(0, 1, 1, 0, 1) 4\n",
      "(0, 1, 1, 1, 0) 4\n",
      "(0, 1, 1, 1, 1) 5\n",
      "(1, 0, 0, 0, 0) 2\n",
      "(1, 0, 0, 0, 1) 3\n",
      "(1, 0, 0, 1, 0) 3\n",
      "(1, 0, 0, 1, 1) 4\n",
      "(1, 0, 1, 0, 0) 3\n",
      "(1, 0, 1, 0, 1) 4\n",
      "(1, 0, 1, 1, 0) 4\n",
      "(1, 0, 1, 1, 1) 5\n",
      "(1, 1, 0, 0, 0) 3\n",
      "(1, 1, 0, 0, 1) 4\n",
      "(1, 1, 0, 1, 0) 4\n",
      "(1, 1, 0, 1, 1) 5\n",
      "(1, 1, 1, 0, 0) 4\n",
      "(1, 1, 1, 0, 1) 5\n",
      "(1, 1, 1, 1, 0) 5\n",
      "(1, 1, 1, 1, 1) 6\n",
      "(0, 0, 0, 0, 0) 1\n",
      "(0, 0, 0, 0, 1) 2\n",
      "(0, 0, 0, 1, 0) 2\n",
      "(0, 0, 0, 1, 1) 3\n",
      "(0, 0, 1, 0, 0) 2\n",
      "(0, 0, 1, 0, 1) 3\n",
      "(0, 0, 1, 1, 0) 3\n",
      "(0, 0, 1, 1, 1) 4\n",
      "(0, 1, 0, 0, 0) 2\n",
      "(0, 1, 0, 0, 1) 3\n",
      "(0, 1, 0, 1, 0) 3\n",
      "(0, 1, 0, 1, 1) 4\n",
      "(0, 1, 1, 0, 0) 3\n",
      "(0, 1, 1, 0, 1) 4\n",
      "(0, 1, 1, 1, 0) 4\n",
      "(0, 1, 1, 1, 1) 5\n",
      "(1, 0, 0, 0, 0) 2\n",
      "(1, 0, 0, 0, 1) 3\n",
      "(1, 0, 0, 1, 0) 3\n",
      "(1, 0, 0, 1, 1) 4\n",
      "(1, 0, 1, 0, 0) 3\n",
      "(1, 0, 1, 0, 1) 4\n",
      "(1, 0, 1, 1, 0) 4\n",
      "(1, 0, 1, 1, 1) 5\n",
      "(1, 1, 0, 0, 0) 3\n",
      "(1, 1, 0, 0, 1) 4\n",
      "(1, 1, 0, 1, 0) 4\n",
      "(1, 1, 0, 1, 1) 5\n",
      "(1, 1, 1, 0, 0) 4\n",
      "(1, 1, 1, 0, 1) 5\n",
      "(1, 1, 1, 1, 0) 5\n",
      "(1, 1, 1, 1, 1) 6\n",
      "O tempo necessário para realizar o experimento foi de: 0.0021711 segundos\n"
     ]
    }
   ],
   "source": [
    "import time\n",
    "import itertools\n",
    "\n",
    "EXECS = 5\n",
    "tempo_total = 0\n",
    "\n",
    "for i in range(EXECS):\n",
    "    START = time.perf_counter()\n",
    "\n",
    "    for individuo in itertools.product([0, 1], repeat=5):\n",
    "        fobj = funcao_objetivo(individuo) #- 1\n",
    "        # vou deixar o print dos individuos obtidos para ver o erro (+1) que está acontecendo\n",
    "        print(individuo, fobj)\n",
    "\n",
    "    END = time.perf_counter()\n",
    "    tempo_total += (END - START)\n",
    "\n",
    "MEDIA_B = (tempo_total / EXECS)\n",
    "print(f\"O tempo necessário para realizar o experimento foi de: {MEDIA_B:.7f} segundos\")"
   ]
  },
  {
   "cell_type": "code",
   "execution_count": 13,
   "id": "0ccfd94b-4621-4dbc-8efd-4fa6746107b9",
   "metadata": {},
   "outputs": [
    {
     "name": "stdout",
     "output_type": "stream",
     "text": [
      "A média entre a busca em grade realizada 1 vez VS realizada 5 vezes foi de: 0.0010992 segundos\n"
     ]
    }
   ],
   "source": [
    "MEDIA_BG = (MEDIA_A + MEDIA_B)/2\n",
    "print(f\"A média entre a busca em grade realizada 1 vez VS realizada 5 vezes foi de: {MEDIA_BG:.7f} segundos\")"
   ]
  },
  {
   "cell_type": "markdown",
   "id": "9343feef-7218-4f7f-bd71-283419b52f99",
   "metadata": {},
   "source": [
    "Neste caso, não foi necessário mudar alguma variável ou fazer um laço de repetição para alcançar as 30 iterações, visto que, convenientemente, para a busca em grade do produto de `[0,1]` 5 vezes alcançar a maior soma dos indivíduos dentro da caixa (5), são necessárias 30 iterações.\n",
    "\n",
    "Mesmo assim, para a \"disputa\" entre os algoritmos/métodos ser justa, optei realizar a busca em grade também com EXECS=5 para ver como isso afeta seu desempenho. \n",
    "\n",
    "Para finalizar, fiz uma média dos tempos necessários para realizar esses dois processos."
   ]
  },
  {
   "cell_type": "markdown",
   "id": "6165cbe1-f230-4699-a9a7-d2566c5f40fe",
   "metadata": {
    "id": "6165cbe1-f230-4699-a9a7-d2566c5f40fe"
   },
   "source": [
    "#### Problema 3\n",
    "Neste caso, minha abordagem inicial foi utilizar o algoritmo genético feito em aula. No entanto, percebi que ao mudar algumas variáveis, o código retornava erros em relação ao \"tamanho da lista\". Isso mudava conforme o valor de ** era mudado, e isto foi comprovado por meio de três testes.\n",
    "Assim, ao não poder prosseguir com o primeiro algoritmo criado em classe, preferi usar o módulo DEAP, o qual nos foi ensinado em uma aula adicional da disciplica. A seguir, a resolução por meio do módulo DEAP."
   ]
  },
  {
   "cell_type": "code",
   "execution_count": 14,
   "id": "75aac4ea-3531-4789-a64e-669eea4ed607",
   "metadata": {},
   "outputs": [],
   "source": [
    "# constantes\n",
    "\n",
    "tamanho_pop = 5\n",
    "numero_genes = 5\n",
    "numero_geracoes = 5\n",
    "chance_cruzamento = 0.5\n",
    "chance_mutacao = 0.05\n",
    "\n",
    "bom_fit = float(\"inf\")"
   ]
  },
  {
   "cell_type": "code",
   "execution_count": 15,
   "id": "724b8c51-8ee6-4686-9165-3acbb3a97bcc",
   "metadata": {},
   "outputs": [
    {
     "ename": "IndentationError",
     "evalue": "expected an indented block (Temp/ipykernel_2660/1164184819.py, line 1)",
     "output_type": "error",
     "traceback": [
      "\u001b[1;36m  File \u001b[1;32m\"C:\\Users\\HAZIEL~1\\AppData\\Local\\Temp/ipykernel_2660/1164184819.py\"\u001b[1;36m, line \u001b[1;32m1\u001b[0m\n\u001b[1;33m    while bom_fit != 0:\u001b[0m\n\u001b[1;37m                          ^\u001b[0m\n\u001b[1;31mIndentationError\u001b[0m\u001b[1;31m:\u001b[0m expected an indented block\n"
     ]
    }
   ],
   "source": [
    "while bom_fit != 0:   "
   ]
  },
  {
   "cell_type": "code",
   "execution_count": null,
   "id": "9b69071b-b7a4-486c-8239-ff1c63f8fc74",
   "metadata": {},
   "outputs": [],
   "source": [
    "EXECS = 5\n",
    "tempo_total = 0\n",
    "print(\"Teste I\")\n",
    "START = time.perf_counter()\n",
    "for i in range(EXECS):\n",
    "    \n",
    "\n",
    "    populacao = cria_populacao_cb(tamanho_pop,numero_genes)\n",
    "\n",
    "    print(\"População inicial:\")\n",
    "    print(populacao)\n",
    "\n",
    "    for n in range(numero_geracoes):\n",
    "        fitness = funcao_objetivo_pop(populacao)\n",
    "        populacao = funcao_selecao(populacao,fitness)\n",
    "        pais = populacao[0::2]\n",
    "        maes = populacao[1::2]\n",
    "        contador = 0\n",
    "        for pai,mae in zip(pais,maes):\n",
    "            if random.random() < chance_cruzamento:\n",
    "                filho1,filho2 = funcao_cruzamento(pai,mae)\n",
    "                populacao[contador] = filho1\n",
    "                populacao[contador+1] = filho2\n",
    "            \n",
    "            contador = contador + 2\n",
    "        \n",
    "        for individuo in range(len(populacao)):\n",
    "            if random.random() <= chance_mutacao:\n",
    "                individuo = populacao[n-1] \n",
    "                print(f\"Teste A populacao pre mutacao{populacao[n-1]}\")\n",
    "            \n",
    "                populacao[n-1] = funcao_mutacao(individuo-1)\n",
    "                print(f\"Teste B populacao pos mutacao{populacao[n-1]}\")\n",
    "        \n",
    "    print()\n",
    "    print(\"População final:\")\n",
    "    print(populacao)\n",
    "\n",
    "END = time.perf_counter()\n",
    "tempo_total += (END - START)\n",
    "    \n",
    "MEDIA = (tempo_total / EXECS)\n",
    "print(f\"Tempo médio: {MEDIA:.7f} segundos\")"
   ]
  },
  {
   "cell_type": "code",
   "execution_count": null,
   "id": "7086df91-4718-4f12-a96b-8ec98694c9e9",
   "metadata": {
    "id": "LwpkDUNknEuY"
   },
   "outputs": [],
   "source": [
    "EXECS = 1\n",
    "tempo_total = 0\n",
    "print(\"Teste II\")\n",
    "for i in range(EXECS):\n",
    "    START = time.perf_counter()\n",
    "\n",
    "    populacao = cria_populacao_cb(tamanho_pop,numero_genes)\n",
    "\n",
    "    print(\"População inicial:\")\n",
    "    print(populacao)\n",
    "\n",
    "    for n in range(numero_geracoes):\n",
    "        fitness = funcao_objetivo_pop(populacao)\n",
    "        populacao = funcao_selecao(populacao,fitness)\n",
    "        pais = populacao[0::2]\n",
    "        maes = populacao[1::2]\n",
    "        contador = 0\n",
    "        for pai,mae in zip(pais,maes):\n",
    "            if random.random() < chance_cruzamento:\n",
    "                filho1,filho2 = funcao_cruzamento(pai,mae)\n",
    "                populacao[contador] = filho1\n",
    "                populacao[contador+1] = filho2\n",
    "            \n",
    "            contador = contador + 2\n",
    "        \n",
    "        for individuo in range(len(populacao)):\n",
    "            if random.random() <= chance_mutacao:\n",
    "                individuo = populacao[n]\n",
    "                print(f\"Teste A populacao pre mutacao{populacao[n]}\")\n",
    "            \n",
    "                populacao[n] = funcao_mutacao(individuo)\n",
    "                print(f\"Teste B populacao pos mutacao{populacao[n]}\")\n",
    "        \n",
    "    print()\n",
    "    print(\"População final:\")\n",
    "    print(populacao)\n",
    "\n",
    "END = time.perf_counter()\n",
    "tempo_total += (END - START)\n",
    "    \n",
    "MEDIA_AG = (tempo_total / EXECS)\n",
    "print(f\"Tempo médio: {MEDIA_AG:.7f} segundos\")"
   ]
  },
  {
   "cell_type": "code",
   "execution_count": null,
   "id": "acd130ee-be60-4492-8e7f-8baf17f1e4f3",
   "metadata": {},
   "outputs": [],
   "source": [
    "EXECS = 1\n",
    "tempo_total = 0\n",
    "print(\"Teste III\")\n",
    "for i in range(EXECS):\n",
    "    START = time.perf_counter()\n",
    "\n",
    "    populacao = cria_populacao_cb(tamanho_pop,numero_genes)\n",
    "\n",
    "    print(\"População inicial:\")\n",
    "    print(populacao)\n",
    "\n",
    "    for n in range(numero_geracoes):\n",
    "        fitness = funcao_objetivo_pop(populacao)\n",
    "        populacao = funcao_selecao(populacao,fitness)\n",
    "        pais = populacao[0::2]\n",
    "        maes = populacao[1::2]\n",
    "        contador = 0\n",
    "        for pai,mae in zip(pais,maes):\n",
    "            if random.random() < chance_cruzamento:\n",
    "                filho1,filho2 = funcao_cruzamento(pai,mae)\n",
    "                populacao[contador] = filho1\n",
    "                populacao[contador+1] = filho2\n",
    "            \n",
    "            contador = contador + 2\n",
    "        \n",
    "        for individuo in range(len(populacao)):\n",
    "            if random.random() <= chance_mutacao:\n",
    "                individuo = populacao[n]\n",
    "                print(f\"Teste A populacao pre mutacao{populacao[n]}\")\n",
    "            \n",
    "                populacao[n] = funcao_mutacao(individuo)\n",
    "                print(f\"Teste B populacao pos mutacao{populacao[n]}\")\n",
    "        \n",
    "    print()\n",
    "    print(\"População final:\")\n",
    "    print(populacao)\n",
    "\n",
    "END = time.perf_counter()\n",
    "tempo_total += (END - START)\n",
    "    \n",
    "MEDIA = (tempo_total / EXECS)\n",
    "print(f\"Tempo médio: {MEDIA:.7f} segundos\")"
   ]
  },
  {
   "cell_type": "markdown",
   "id": "EgM5CwEcxHS6",
   "metadata": {
    "id": "EgM5CwEcxHS6"
   },
   "source": [
    "#### Agora, a resolução com DEAP"
   ]
  },
  {
   "cell_type": "code",
   "execution_count": null,
   "id": "3PgyPgTKsTmL",
   "metadata": {
    "id": "3PgyPgTKsTmL"
   },
   "outputs": [],
   "source": [
    "import deap\n",
    "from deap import base\n",
    "from deap import creator\n",
    "from deap import tools"
   ]
  },
  {
   "cell_type": "code",
   "execution_count": null,
   "id": "38rzF_m7sTmL",
   "metadata": {
    "id": "38rzF_m7sTmL"
   },
   "outputs": [],
   "source": [
    "from deap.algorithms import eaSimple\n",
    "import numpy as np\n",
    "np.random.seed(137)\n",
    "import matplotlib.pyplot as plt\n",
    "from funcoes import gene_cb"
   ]
  },
  {
   "cell_type": "code",
   "execution_count": null,
   "id": "gK-Z3vjTxbyR",
   "metadata": {
    "id": "gK-Z3vjTxbyR"
   },
   "outputs": [],
   "source": [
    "NUM_CAIXAS = 5\n",
    "TAMANHO_POP = 5\n",
    "NUM_COMBATENTES_NO_TORNEIO = 3\n",
    "CHANCE_MUTACAO_DE_CADA_GENE = 0.05\n",
    "CHANCE_CRUZAMENTO = 0.7\n",
    "CHANCE_MUTACAO = 0.2\n",
    "NUM_GERACOES = 6\n",
    "TAMANHO_HALL_DA_FAMA = 3"
   ]
  },
  {
   "cell_type": "code",
   "execution_count": null,
   "id": "RIKNZgUOsTmL",
   "metadata": {
    "id": "RIKNZgUOsTmL"
   },
   "outputs": [],
   "source": [
    "creator.create(\"Fitness_max\", base.Fitness, weights=(1.0,))\n",
    "\n",
    "creator.create(\"Individuo\", list, fitness=creator.Fitness_max)\n",
    "\n",
    "toolbox = base.Toolbox()\n",
    "\n",
    "toolbox.register(\n",
    "    \"individuo\", tools.initRepeat, creator.Individuo, gene_cb, NUM_CAIXAS\n",
    ")\n",
    "\n",
    "toolbox.register(\n",
    "    \"populacao\", tools.initRepeat, list, toolbox.individuo, TAMANHO_POP\n",
    ")\n",
    "\n",
    "def funcao_objetivo_cb(individuo):\n",
    "    return (sum(individuo), )\n",
    "\n",
    "toolbox.register(\"evaluate\", funcao_objetivo_cb)\n",
    "\n",
    "toolbox.register(\n",
    "    \"select\", tools.selTournament, tournsize=NUM_COMBATENTES_NO_TORNEIO\n",
    ")\n",
    "\n",
    "toolbox.register(\"mate\", tools.cxOnePoint)\n",
    "\n",
    "toolbox.register(\"mutate\", tools.mutFlipBit, indpb=CHANCE_MUTACAO_DE_CADA_GENE)\n",
    "\n",
    "hall_da_fama = tools.HallOfFame(TAMANHO_HALL_DA_FAMA)\n",
    "\n",
    "estatisticas = tools.Statistics(lambda ind: ind.fitness.values)\n",
    "estatisticas.register(\"avg\", np.mean)\n",
    "estatisticas.register(\"std\", np.std)\n",
    "estatisticas.register(\"min\", np.min)\n",
    "estatisticas.register(\"max\", np.max)"
   ]
  },
  {
   "cell_type": "code",
   "execution_count": null,
   "id": "9etHm6R1sTmL",
   "metadata": {
    "id": "9etHm6R1sTmL"
   },
   "outputs": [],
   "source": [
    "EXECS = 5\n",
    "tempo_total = 0\n",
    "for i in range(EXECS):\n",
    "    START = time.perf_counter()\n",
    "    \n",
    "creator.create(\"Fitness_max\", base.Fitness, weights=(1.0,))\n",
    "creator.create(\"Individuo\", list, fitness=creator.Fitness_max)\n",
    "\n",
    "toolbox = base.Toolbox()\n",
    "toolbox.register(\"individuo\", tools.initRepeat, creator.Individuo, gene_cb, NUM_CAIXAS)\n",
    "toolbox.register(\"populacao\", tools.initRepeat, list, toolbox.individuo, TAMANHO_POP)\n",
    "\n",
    "def funcao_objetivo_cb(individuo):\n",
    "    return (sum(individuo),)\n",
    "\n",
    "toolbox.register(\"evaluate\", funcao_objetivo_cb)\n",
    "toolbox.register(\"select\", tools.selTournament, tournsize=NUM_COMBATENTES_NO_TORNEIO)\n",
    "toolbox.register(\"mate\", tools.cxOnePoint)\n",
    "toolbox.register(\"mutate\", tools.mutFlipBit, indpb=CHANCE_MUTACAO_DE_CADA_GENE)\n",
    "\n",
    "hall_da_fama = tools.HallOfFame(TAMANHO_HALL_DA_FAMA)\n",
    "\n",
    "estatisticas = tools.Statistics(lambda ind: ind.fitness.values)\n",
    "estatisticas.register(\"avg\", np.mean)\n",
    "estatisticas.register(\"std\", np.std)\n",
    "estatisticas.register(\"min\", np.min)\n",
    "estatisticas.register(\"max\", np.max)\n",
    "\n",
    "populacao_inicial = toolbox.populacao()\n",
    "\n",
    "populacao_final, log = algorithms.eaSimple(\n",
    "    populacao_inicial,\n",
    "    toolbox,\n",
    "    cxpb=CHANCE_CRUZAMENTO,\n",
    "    mutpb=CHANCE_MUTACAO,\n",
    "    ngen=NUM_GERACOES,\n",
    "    stats=estatisticas,\n",
    "    halloffame=hall_da_fama,\n",
    "    verbose=True,\n",
    ")\n",
    "\n",
    "num_iteracoes = NUM_GERACOES * TAMANHO_POP\n",
    "\n",
    "END = time.perf_counter()\n",
    "tempo_total += (END - START)\n",
    "    \n",
    "MEDIA_AGD = (tempo_total / EXECS)\n",
    "print(f\"O tempo necessário para realizar o experimento com 5 espaços e {num_iteracoes} iterações foi de: {MEDIA_AGD:7f} segundos\")\n",
    "print(f\"O número de iterações totais realizadas foi de: {num_iteracoes*EXECS} \")\n",
    "print(f\"E a população final obtida foi a seguinte {populacao_final}\")"
   ]
  },
  {
   "cell_type": "markdown",
   "id": "447a7cc5-de98-403e-8abc-a766e2b6f30e",
   "metadata": {},
   "source": [
    "Após os resultados obtidos, é interessante perceber como o algoritmo genético não é uma \"carta coringa\" que irá funcionar/ser efetivo em qualquer problema no qual ele é aplicado. Essa afirmação é direcionada principalmente a algoritmos com parâmetros de geração e população **baixos**, visto que, no caso do experimento realizado, apenas foram 5 indivíduos na população das 6 gerações, o que não alcançou o objetivo da maior soma dos genes/espaços. "
   ]
  },
  {
   "cell_type": "markdown",
   "id": "e455395f-5a95-4e91-9e02-9042f5db9c46",
   "metadata": {},
   "source": [
    "#### COMPARAÇÕES"
   ]
  },
  {
   "cell_type": "code",
   "execution_count": null,
   "id": "64d24b7a-f73e-4501-916c-568fa13dddda",
   "metadata": {},
   "outputs": [],
   "source": [
    "print(f\"\"\"O tempo usado pela busca aleatória foi de {MEDIA_BA:.7f} segundos;\n",
    "O tempo usado pela busca em grade (1 EXEC) foi de {MEDIA_A:.7f} segundos;\n",
    "O tempo usado pela busca em grade (5 EXECS) foi de {MEDIA_B:.7f} segundos;\n",
    "O tempo usado pela busca em grade (Média 5 e 1) foi de {MEDIA_BG:.7f} segundos;\n",
    "O tempo usado pelo algoritmo genético sem DEAP foi de {MEDIA_AG:.7f} segundos;\n",
    "O tempo usado pelo algoritmo genético com DEAP foi de {MEDIA_AGD:.7f} segundos\n",
    "\"\"\")"
   ]
  },
  {
   "cell_type": "markdown",
   "id": "5814fe7a-1b59-401b-9e79-ca91cd345824",
   "metadata": {
    "id": "5814fe7a-1b59-401b-9e79-ca91cd345824"
   },
   "source": [
    "## Conclusão"
   ]
  },
  {
   "cell_type": "markdown",
   "id": "79f58330-be0b-475b-a682-a39f00d82735",
   "metadata": {
    "id": "79f58330-be0b-475b-a682-a39f00d82735"
   },
   "source": [
    "`[nova conclusao apos ter feito uma releitura do experimento e mudado tudo e tirado os graficos]`"
   ]
  },
  {
   "cell_type": "markdown",
   "id": "424e42e2-19c6-4ea6-9f23-19e536ef19f3",
   "metadata": {
    "id": "5455356c-2035-4b97-81a2-6a749114c112"
   },
   "source": [
    "criterio de parada: função objetivo"
   ]
  }
 ],
 "metadata": {
  "colab": {
   "provenance": []
  },
  "kernelspec": {
   "display_name": "ilumpy",
   "language": "python",
   "name": "ilumpy"
  },
  "language_info": {
   "codemirror_mode": {
    "name": "ipython",
    "version": 3
   },
   "file_extension": ".py",
   "mimetype": "text/x-python",
   "name": "python",
   "nbconvert_exporter": "python",
   "pygments_lexer": "ipython3",
   "version": "3.9.7"
  }
 },
 "nbformat": 4,
 "nbformat_minor": 5
}
