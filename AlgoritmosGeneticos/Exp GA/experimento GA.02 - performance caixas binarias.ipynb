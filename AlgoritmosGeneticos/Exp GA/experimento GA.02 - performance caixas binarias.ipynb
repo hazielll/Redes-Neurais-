{
 "cells": [
  {
   "cell_type": "markdown",
   "id": "b795d6e2-8f0c-48aa-a613-62c8a5d0de40",
   "metadata": {},
   "source": [
    "## Comparando as performances\n",
    "\n"
   ]
  },
  {
   "cell_type": "markdown",
   "id": "95bb0736-c207-439e-9462-1cd52cf9f2d6",
   "metadata": {},
   "source": [
    "**Objetivo**: Compare a performance de três algoritmos diferentes de otimização (busca aleatória, busca em grade e algoritmos genéticos) para resolver o problema das caixas binárias.\n",
    "\n",
    "**Lembrete**: nós estudamos performance de algoritmos durante lógica computacional.\n",
    "\n",
    "**Dica**: O enunciado do objetivo não definiu o número de caixas. É esperado de um cientista que ele entenda que não adianta resolver esse problema para apenas um valor de $n$ caixas, mas sim buscar uma tendência resolvendo esse problema para alguns valores de $n$ diferentes. Fique atento pois essa dica não será mais dada a partir de agora mesmo que seja necessário usar desse bom senso científico em problemas futuros.\n",
    "\n",
    "**Dica 2**: Lembre-se de que o único algoritmo determinístico dos três sendo estudados é o de busca em grade. Sendo assim, é esperado que um cientista entenda que situações não-determinísticas demandam o uso de estatística para quantificar um valor médio de performance e seu desvio. Novamente, fique atento pois essa dica não será mais dada a partir de agora.\n",
    "\n",
    "**Nome do arquivo**: &ldquo;experimento GA.02 - performance caixas binarias&rdquo;\n",
    "\n"
   ]
  },
  {
   "cell_type": "markdown",
   "id": "50b1857a-af34-4552-8127-ffc08ddb597b",
   "metadata": {},
   "source": [
    "<hr>\n",
    "\n"
   ]
  },
  {
   "cell_type": "markdown",
   "id": "22a4f294-be9c-44d6-92c5-e4183439a7d0",
   "metadata": {},
   "source": [
    "## Importações"
   ]
  },
  {
   "cell_type": "markdown",
   "id": "0842a086-72d0-4a63-8296-a1ae20e19c85",
   "metadata": {},
   "source": [
    "Neste caso, terei que importar todos os códigos utilizados nos primeiros três experimentos, visto que o nosso objetivo é comparar a performance deles."
   ]
  },
  {
   "cell_type": "code",
   "execution_count": 1,
   "id": "28cf9c0a-4b5a-4116-8c15-e34135a2f1e0",
   "metadata": {},
   "outputs": [],
   "source": [
    "from funcoes import individuo_cb, funcao_objetivo_cb\n",
    "import time\n",
    "import itertools\n",
    "import random\n",
    "from funcoes import populacao_cb as cria_populacao_cb\n",
    "from funcoes import funcao_objetivo_pop_cb as funcao_objetivo_pop\n",
    "from funcoes import selecao_roleta_max as funcao_selecao\n",
    "from funcoes import cruzamento_ponto_simples as funcao_cruzamento\n",
    "from funcoes import mutacao_cb as funcao_mutacao\n",
    "########## SPOILER: OTIMIZAÇÃO? ##########\n",
    "import timeit\n",
    "import numpy as np\n",
    "from timeit import Timer"
   ]
  },
  {
   "cell_type": "markdown",
   "id": "bd2f0a87-c48d-4476-9fb0-c2905262e902",
   "metadata": {},
   "source": [
    "## Códigos e discussão"
   ]
  },
  {
   "cell_type": "markdown",
   "id": "3e8237a6-fb5f-46b6-b62c-7d788320c7bb",
   "metadata": {},
   "source": [
    "#### Problema 1 "
   ]
  },
  {
   "cell_type": "code",
   "execution_count": 2,
   "id": "16f16820-1793-4009-a7cc-1462197f0b57",
   "metadata": {},
   "outputs": [],
   "source": [
    "#Constantes\n",
    "\n",
    "NUM_CANDIDATOS = 12\n",
    "NUM_GENES = 5"
   ]
  },
  {
   "cell_type": "code",
   "execution_count": 3,
   "id": "3172a752-e251-4458-bdda-8ec2cb153088",
   "metadata": {
    "tags": []
   },
   "outputs": [
    {
     "name": "stdout",
     "output_type": "stream",
     "text": [
      "O algoritmo com 5 genes demorou 0.0002699000000001561 segundos\n"
     ]
    }
   ],
   "source": [
    "inicio = time.perf_counter()\n",
    "\n",
    "for n in range(NUM_CANDIDATOS):\n",
    "    candidato = individuo_cb(NUM_GENES)\n",
    "    fobj = funcao_objetivo_cb(candidato)\n",
    "    #print(candidato, fobj)\n",
    "    \n",
    "fim = time.perf_counter()\n",
    "tempo_total = fim - inicio\n",
    "\n",
    "print(\"O algoritmo com\", NUM_GENES,\"genes demorou\", tempo_total, \"segundos\")"
   ]
  },
  {
   "cell_type": "markdown",
   "id": "619741e1-2e33-4d59-93ce-29ff3dec637a",
   "metadata": {},
   "source": [
    "Vale lembrar que o objetivo deste primeiro algoritmo usado é encontrar o maior resultado da soma das casas da nossa caixa binária. Ele faz isso através de tentativa e erro, por isso, o esperado é que o tempo que ele demora para ser executado irá aumentar conforme mais casas e/ou mais possibilidades de números nessas casas (mas o problema não seria uma caixa binária nesse caso)."
   ]
  },
  {
   "cell_type": "markdown",
   "id": "03b5f66d-08d7-428e-bd8d-2a6d97468260",
   "metadata": {
    "tags": []
   },
   "source": [
    "#### OBS.:\n",
    "- A ideia de utilizar apenas o perf counter me pareceu muito simples, portanto, decidi pesquisar sobre alguns métodos de como otimizar a sua utilização. Percebi que cada contagem resultava em um número com uma diferença significativa. Assim, decidi calcular a média de _n_ runs de determinado código, ainda utilizando o perf_conuter. Tentei achar alguma biblioteca que fizesse isso, mas não pude achar nenhuma. Junto à implementação mais \"complexa\" do perf_counter, também pude aprender a utilizar o tipo de string f\"\".\n",
    "- Além disso, também tentei implementar outros métodos da biblioteca time, tais como o process_time, o qual conta o tempo gasto pelo processador para rodar o código. Mas, por algum erro, ou pouco uso do processador, o resultado retornado sempre era de 0.0000 segundos. "
   ]
  },
  {
   "cell_type": "code",
   "execution_count": 4,
   "id": "faa984a2-94f6-402d-8030-10fd05ea5080",
   "metadata": {
    "tags": []
   },
   "outputs": [
    {
     "name": "stdout",
     "output_type": "stream",
     "text": [
      "Tempo médio: 0.000075 segundos\n"
     ]
    }
   ],
   "source": [
    "EXECS = 100\n",
    "tempo_total = 0\n",
    "\n",
    "for i in range(EXECS):\n",
    "    START = time.perf_counter()\n",
    "\n",
    "    for n in range(NUM_CANDIDATOS):\n",
    "        candidato = individuo_cb(NUM_GENES)\n",
    "        fobj = funcao_objetivo_cb(candidato)\n",
    "        #print(candidato, fobj) Caso optar por printar, favor tomar cuidado com o número de linhas.\n",
    "\n",
    "    END = time.perf_counter()\n",
    "    tempo_total += (END - START)\n",
    "    \n",
    "MEDIA = (tempo_total / EXECS)\n",
    "print(f\"Tempo médio: {MEDIA:.6f} segundos\")"
   ]
  },
  {
   "cell_type": "markdown",
   "id": "5e560d68-bf8d-43a0-9198-4eaf27c02b55",
   "metadata": {},
   "source": [
    "#### Problema 2"
   ]
  },
  {
   "cell_type": "code",
   "execution_count": 5,
   "id": "4ae942de-7dd1-426b-83e5-a1ba576779b0",
   "metadata": {
    "tags": []
   },
   "outputs": [
    {
     "name": "stdout",
     "output_type": "stream",
     "text": [
      "Os algoritmos com 4 e 6 genes demoraram, no total, 0.00023580000000045231 segundos\n"
     ]
    }
   ],
   "source": [
    "inicio = time.perf_counter()\n",
    "\n",
    "for gene1 in [0, 1]:\n",
    "    for gene2 in [0, 1]:\n",
    "        for gene3 in [0, 1]:\n",
    "            for gene4 in [0, 1]:\n",
    "                individuo = [gene1, gene2, gene3, gene4]\n",
    "                fobj = funcao_objetivo_cb(individuo)\n",
    "                #print(individuo, fobj)\n",
    "                \n",
    "#####                \n",
    "for individuo in itertools.product([0,1], [0,1], [0,1], [0,1, 2]):\n",
    "    fobj = funcao_objetivo_cb(individuo)\n",
    "    #print(individuo, fobj)\n",
    "    \n",
    "#####\n",
    "for individuo in itertools.product([0,1], repeat=6):\n",
    "    fobj = funcao_objetivo_cb(individuo)\n",
    "    #print(individuo, fobj)\n",
    "    \n",
    "fim = time.perf_counter()\n",
    "\n",
    "print(\"Os algoritmos com 4 e 6 genes demoraram, no total,\", fim - inicio, \"segundos\")"
   ]
  },
  {
   "cell_type": "code",
   "execution_count": 6,
   "id": "8ac2087c-d623-4ba8-8d40-0ab9611896a8",
   "metadata": {
    "tags": []
   },
   "outputs": [
    {
     "name": "stdout",
     "output_type": "stream",
     "text": [
      "Tempo médio: 0.0000022 segundos\n"
     ]
    }
   ],
   "source": [
    "EXECS = 100\n",
    "tempo_total = 0\n",
    "\n",
    "for i in range(EXECS):\n",
    "    START = time.perf_counter()\n",
    "\n",
    "    for gene1 in [0, 1]:\n",
    "        for gene2 in [0, 1]:\n",
    "            for gene3 in [0, 1]:\n",
    "                for gene4 in [0, 1]:\n",
    "                    individuo = [gene1, gene2, gene3, gene4]\n",
    "                    fobj = funcao_objetivo_cb(individuo)\n",
    "                    #print(individuo, fobj)\n",
    "                \n",
    "#####                \n",
    "    for individuo in itertools.product([0,1], [0,1], [0,1], [0,1, 2]):\n",
    "        fobj = funcao_objetivo_cb(individuo)\n",
    "        #print(individuo, fobj)\n",
    "    \n",
    "#####\n",
    "    for individuo in itertools.product([0,1], repeat=6):\n",
    "        fobj = funcao_objetivo_cb(individuo)\n",
    "        #print(individuo, fobj)\n",
    "    \n",
    "END = time.perf_counter()\n",
    "tempo_total += (END - START)\n",
    "    \n",
    "MEDIA = (tempo_total / EXECS)\n",
    "print(f\"Tempo médio: {MEDIA:.7f} segundos\")"
   ]
  },
  {
   "cell_type": "markdown",
   "id": "6165cbe1-f230-4699-a9a7-d2566c5f40fe",
   "metadata": {},
   "source": [
    "#### Problema 3"
   ]
  },
  {
   "cell_type": "code",
   "execution_count": 7,
   "id": "1ef42f33-4712-42aa-b85c-bf98c02a9938",
   "metadata": {},
   "outputs": [],
   "source": [
    "# constantes\n",
    "\n",
    "tamanho_pop = 5\n",
    "numero_genes = 4\n",
    "numero_geracoes = 5\n",
    "chance_cruzamento = 0.5\n",
    "chance_mutacao = 0.05"
   ]
  },
  {
   "cell_type": "code",
   "execution_count": 8,
   "id": "da8ca030-ac54-4559-b1f2-80c4ded0f9ed",
   "metadata": {},
   "outputs": [
    {
     "name": "stdout",
     "output_type": "stream",
     "text": [
      "População inicial:\n",
      "[[1, 1, 1, 1], [1, 0, 1, 0], [0, 1, 0, 0], [0, 0, 0, 1], [1, 0, 0, 0]]\n"
     ]
    },
    {
     "ename": "IndexError",
     "evalue": "list assignment index out of range",
     "output_type": "error",
     "traceback": [
      "\u001b[1;31m---------------------------------------------------------------------------\u001b[0m",
      "\u001b[1;31mIndexError\u001b[0m                                Traceback (most recent call last)",
      "\u001b[1;32mC:\\Users\\HAZIEL~1\\AppData\\Local\\Temp/ipykernel_29040/1196227448.py\u001b[0m in \u001b[0;36m<module>\u001b[1;34m\u001b[0m\n\u001b[0;32m     24\u001b[0m             \u001b[0mindividuo\u001b[0m \u001b[1;33m=\u001b[0m \u001b[0mpopulacao\u001b[0m\u001b[1;33m[\u001b[0m\u001b[0mn\u001b[0m\u001b[1;33m]\u001b[0m\u001b[1;33m\u001b[0m\u001b[1;33m\u001b[0m\u001b[0m\n\u001b[0;32m     25\u001b[0m \u001b[1;33m\u001b[0m\u001b[0m\n\u001b[1;32m---> 26\u001b[1;33m             \u001b[0mpopulacao\u001b[0m\u001b[1;33m[\u001b[0m\u001b[0mn\u001b[0m\u001b[1;33m]\u001b[0m \u001b[1;33m=\u001b[0m \u001b[0mfuncao_mutacao\u001b[0m\u001b[1;33m(\u001b[0m\u001b[0mindividuo\u001b[0m\u001b[1;33m)\u001b[0m\u001b[1;33m\u001b[0m\u001b[1;33m\u001b[0m\u001b[0m\n\u001b[0m\u001b[0;32m     27\u001b[0m \u001b[1;33m\u001b[0m\u001b[0m\n\u001b[0;32m     28\u001b[0m \u001b[0mprint\u001b[0m\u001b[1;33m(\u001b[0m\u001b[1;33m)\u001b[0m\u001b[1;33m\u001b[0m\u001b[1;33m\u001b[0m\u001b[0m\n",
      "\u001b[1;32mC:\\JupyterLab\\Redes Neurais\\Redes-Neurais-\\AlgoritmosGeneticos\\Exp GA\\funcoes.py\u001b[0m in \u001b[0;36mmutacao_cb\u001b[1;34m(individuo)\u001b[0m\n\u001b[0;32m    114\u001b[0m     '''\n\u001b[0;32m    115\u001b[0m     \u001b[0mgene_a_ser_mutado\u001b[0m \u001b[1;33m=\u001b[0m \u001b[0mrandom\u001b[0m\u001b[1;33m.\u001b[0m\u001b[0mrandint\u001b[0m\u001b[1;33m(\u001b[0m\u001b[1;36m0\u001b[0m\u001b[1;33m,\u001b[0m \u001b[0mlen\u001b[0m\u001b[1;33m(\u001b[0m\u001b[0mindividuo\u001b[0m\u001b[1;33m)\u001b[0m\u001b[1;33m)\u001b[0m\u001b[1;33m\u001b[0m\u001b[1;33m\u001b[0m\u001b[0m\n\u001b[1;32m--> 116\u001b[1;33m     \u001b[0mindividuo\u001b[0m\u001b[1;33m[\u001b[0m\u001b[0mgene_a_ser_mutado\u001b[0m\u001b[1;33m]\u001b[0m \u001b[1;33m=\u001b[0m \u001b[0mgene_cb\u001b[0m\u001b[1;33m(\u001b[0m\u001b[1;33m)\u001b[0m\u001b[1;33m\u001b[0m\u001b[1;33m\u001b[0m\u001b[0m\n\u001b[0m\u001b[0;32m    117\u001b[0m     \u001b[1;32mreturn\u001b[0m \u001b[0mindividuo\u001b[0m\u001b[1;33m\u001b[0m\u001b[1;33m\u001b[0m\u001b[0m\n\u001b[0;32m    118\u001b[0m \u001b[1;33m\u001b[0m\u001b[0m\n",
      "\u001b[1;31mIndexError\u001b[0m: list assignment index out of range"
     ]
    }
   ],
   "source": [
    "inicio = time.perf_counter()\n",
    "\n",
    "populacao = cria_populacao_cb(tamanho_pop,numero_genes)\n",
    "\n",
    "print(\"População inicial:\")\n",
    "print(populacao)\n",
    "\n",
    "for n in range(numero_geracoes):\n",
    "    fitness = funcao_objetivo_pop(populacao)\n",
    "    populacao = funcao_selecao(populacao,fitness)\n",
    "    pais = populacao[0::2]\n",
    "    maes = populacao[1::2]\n",
    "    contador = 0\n",
    "    for pai,mae in zip(pais,maes):\n",
    "        if random.random() < chance_cruzamento:\n",
    "            filho1,filho2 = funcao_cruzamento(pai,mae)\n",
    "            populacao[contador] = filho1\n",
    "            populacao[contador+1] = filho2\n",
    "            \n",
    "        contador = contador + 2\n",
    "        \n",
    "    for individuo in range(len(populacao)):\n",
    "        if random.random() <= chance_mutacao:\n",
    "            individuo = populacao[n]\n",
    "            \n",
    "            populacao[n] = funcao_mutacao(individuo)\n",
    "        \n",
    "print()\n",
    "print(\"População final:\")\n",
    "print(populacao)\n",
    "\n",
    "fim = time.perf_counter()\n",
    "\n",
    "print(\"O algoritmo com 4 genes demorou\", fim - inicio, \"segundos\")"
   ]
  },
  {
   "cell_type": "code",
   "execution_count": null,
   "id": "205a5ca0-6869-40a7-a136-68b70b4aa245",
   "metadata": {},
   "outputs": [],
   "source": []
  },
  {
   "cell_type": "code",
   "execution_count": 10,
   "id": "4b4c87c9-358f-4512-ab79-6e5c838656c8",
   "metadata": {},
   "outputs": [
    {
     "name": "stdout",
     "output_type": "stream",
     "text": [
      "População inicial:\n",
      "[[1, 0, 0, 0], [0, 0, 0, 0], [0, 1, 1, 0], [1, 0, 0, 0], [0, 1, 0, 0]]\n",
      "\n",
      "População final:\n",
      "[[1, 0, 0, 0], [1, 0, 0, 0], [1, 0, 0, 0], [1, 0, 0, 0], [1, 0, 0, 0]]\n",
      "O algoritmo com 4 genes demorou 0.0008102000000000942 segundos\n"
     ]
    }
   ],
   "source": [
    "inicio = time.perf_counter()\n",
    "\n",
    "populacao = cria_populacao_cb(tamanho_pop,numero_genes)\n",
    "\n",
    "print(\"População inicial:\")\n",
    "print(populacao)\n",
    "\n",
    "for n in range(numero_geracoes):\n",
    "    fitness = funcao_objetivo_pop(populacao)\n",
    "    populacao = funcao_selecao(populacao,fitness)\n",
    "    pais = populacao[0::2]\n",
    "    maes = populacao[1::2]\n",
    "    contador = 0\n",
    "    for pai,mae in zip(pais,maes):\n",
    "        if random.random() < chance_cruzamento:\n",
    "            filho1,filho2 = funcao_cruzamento(pai,mae)\n",
    "            populacao[contador] = filho1\n",
    "            populacao[contador+1] = filho2\n",
    "            \n",
    "        contador = contador + 2\n",
    "        \n",
    "    for individuo in range(len(populacao)):\n",
    "        if random.random() <= chance_mutacao:\n",
    "            individuo = populacao[n]\n",
    "            \n",
    "            populacao[n] = funcao_mutacao(individuo)\n",
    "        \n",
    "print()\n",
    "print(\"População final:\")\n",
    "print(populacao)\n",
    "\n",
    "fim = time.perf_counter()\n",
    "\n",
    "print(\"O algoritmo com 4 genes demorou\", fim - inicio, \"segundos.\")"
   ]
  },
  {
   "cell_type": "code",
   "execution_count": null,
   "id": "d978883a-dfd9-40c3-b432-bb6ac8d2b5ca",
   "metadata": {},
   "outputs": [],
   "source": [
    "EXECS = 1\n",
    "tempo_total = 0\n",
    "\n",
    "for i in range(EXECS):\n",
    "    START = time.perf_counter()\n",
    "\n",
    "    populacao = cria_populacao_cb(tamanho_pop,numero_genes)\n",
    "\n",
    "    print(\"População inicial:\")\n",
    "    print(populacao)\n",
    "\n",
    "    for n in range(numero_geracoes):\n",
    "        fitness = funcao_objetivo_pop(populacao)\n",
    "        populacao = funcao_selecao(populacao,fitness)\n",
    "        pais = populacao[0::2]\n",
    "        maes = populacao[1::2]\n",
    "        contador = 0\n",
    "        for pai,mae in zip(pais,maes):\n",
    "            if random.random() < chance_cruzamento:\n",
    "                filho1,filho2 = funcao_cruzamento(pai,mae)\n",
    "                populacao[contador] = filho1\n",
    "                populacao[contador+1] = filho2\n",
    "            \n",
    "            contador = contador + 2\n",
    "        \n",
    "        for individuo in range(len(populacao)):\n",
    "            if random.random() <= chance_mutacao:\n",
    "                individuo = populacao[n]\n",
    "            \n",
    "                populacao[n] = funcao_mutacao(individuo)\n",
    "        \n",
    "    print()\n",
    "    print(\"População final:\")\n",
    "    print(populacao)\n",
    "\n",
    "END = time.perf_counter()\n",
    "tempo_total += (END - START)\n",
    "    \n",
    "MEDIA = (tempo_total / EXECS)\n",
    "print(f\"Tempo médio: {MEDIA:.7f} segundos\")"
   ]
  },
  {
   "cell_type": "markdown",
   "id": "4f87512d-361a-4418-8648-e580eafc5346",
   "metadata": {},
   "source": [
    "#### OBS.:\n",
    "Neste caso, não pude entender o que aconteceu, visto que em determinados momentos a implementação do perf_counter não funcionou neste código. Ao executá-lo mais de uma vez (EXECS > 1), era retornado o erro \"list assignment index out of range\". Isso também ocorreu mesmo sem a implementação do contador aprimorado. Além desse problema, mesmo executando o código apenas uma vez, sempre há uma grande discrepância entre os valores do tempo contado. Outro erro que não consigo desvendar."
   ]
  },
  {
   "cell_type": "markdown",
   "id": "5814fe7a-1b59-401b-9e79-ca91cd345824",
   "metadata": {},
   "source": [
    "## Conclusão"
   ]
  },
  {
   "cell_type": "markdown",
   "id": "79f58330-be0b-475b-a682-a39f00d82735",
   "metadata": {},
   "source": [
    "Dessa forma, podemos concluir que, o algoritmo que requer menos tempo para ser executado e retornar os resultados esperados é o segundo - de _busca em grade_. Pelo que pude entender, isso ocorre devido a ele ser um _algoritmo determinístico_, assim como citado pelo professor no enunciado. \n",
    "Um algoritmo determinístico consiste na resolução de um problema no qual cada passo será **determinado** pela sua entrada e pelos passos anteriores. Logo, o resultado final é o mesmo dependendo dos inputs utilizados, o que o torna previsível e de fácil repetição. Por isso, faz sentido que o seu tempo de execução seja menor em comparação aos outros códigos."
   ]
  }
 ],
 "metadata": {
  "kernelspec": {
   "display_name": "ilumpy",
   "language": "python",
   "name": "ilumpy"
  },
  "language_info": {
   "codemirror_mode": {
    "name": "ipython",
    "version": 3
   },
   "file_extension": ".py",
   "mimetype": "text/x-python",
   "name": "python",
   "nbconvert_exporter": "python",
   "pygments_lexer": "ipython3",
   "version": "3.9.7"
  }
 },
 "nbformat": 4,
 "nbformat_minor": 5
}
