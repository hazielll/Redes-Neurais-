{
 "cells": [
  {
   "cell_type": "markdown",
   "id": "b795d6e2-8f0c-48aa-a613-62c8a5d0de40",
   "metadata": {},
   "source": [
    "## Comparando as performances\n",
    "\n"
   ]
  },
  {
   "cell_type": "markdown",
   "id": "95bb0736-c207-439e-9462-1cd52cf9f2d6",
   "metadata": {},
   "source": [
    "**Objetivo**: Compare a performance de três algoritmos diferentes de otimização (busca aleatória, busca em grade e algoritmos genéticos) para resolver o problema das caixas binárias.\n",
    "\n",
    "**Lembrete**: nós estudamos performance de algoritmos durante lógica computacional.\n",
    "\n",
    "**Dica**: O enunciado do objetivo não definiu o número de caixas. É esperado de um cientista que ele entenda que não adianta resolver esse problema para apenas um valor de $n$ caixas, mas sim buscar uma tendência resolvendo esse problema para alguns valores de $n$ diferentes. Fique atento pois essa dica não será mais dada a partir de agora mesmo que seja necessário usar desse bom senso científico em problemas futuros.\n",
    "\n",
    "**Dica 2**: Lembre-se de que o único algoritmo determinístico dos três sendo estudados é o de busca em grade. Sendo assim, é esperado que um cientista entenda que situações não-determinísticas demandam o uso de estatística para quantificar um valor médio de performance e seu desvio. Novamente, fique atento pois essa dica não será mais dada a partir de agora.\n",
    "\n",
    "**Nome do arquivo**: &ldquo;experimento GA.02 - performance caixas binarias&rdquo;\n",
    "\n"
   ]
  },
  {
   "cell_type": "markdown",
   "id": "50b1857a-af34-4552-8127-ffc08ddb597b",
   "metadata": {},
   "source": [
    "<hr>\n",
    "\n"
   ]
  },
  {
   "cell_type": "markdown",
   "id": "22a4f294-be9c-44d6-92c5-e4183439a7d0",
   "metadata": {},
   "source": [
    "## Importações"
   ]
  },
  {
   "cell_type": "markdown",
   "id": "0842a086-72d0-4a63-8296-a1ae20e19c85",
   "metadata": {},
   "source": [
    "Neste caso, terei que importar todos os códigos utilizados nos primeiros três experimentos, visto que o nosso objetivo é comparar a performance deles."
   ]
  },
  {
   "cell_type": "code",
   "execution_count": 1,
   "id": "28cf9c0a-4b5a-4116-8c15-e34135a2f1e0",
   "metadata": {},
   "outputs": [],
   "source": [
    "from funcoes import individuo_cb, funcao_objetivo_cb\n",
    "import time"
   ]
  },
  {
   "cell_type": "markdown",
   "id": "bd2f0a87-c48d-4476-9fb0-c2905262e902",
   "metadata": {},
   "source": [
    "## Códigos e discussão"
   ]
  },
  {
   "cell_type": "code",
   "execution_count": 2,
   "id": "16f16820-1793-4009-a7cc-1462197f0b57",
   "metadata": {},
   "outputs": [],
   "source": [
    "#Constantes\n",
    "\n",
    "NUM_CANDIDATOS = 12\n",
    "NUM_GENES = 5"
   ]
  },
  {
   "cell_type": "code",
   "execution_count": 7,
   "id": "3172a752-e251-4458-bdda-8ec2cb153088",
   "metadata": {},
   "outputs": [
    {
     "name": "stdout",
     "output_type": "stream",
     "text": [
      "[1, 0, 0, 0, 1] 3\n",
      "[0, 1, 1, 0, 0] 3\n",
      "[1, 0, 0, 0, 0] 2\n",
      "[0, 0, 0, 0, 0] 1\n",
      "[0, 0, 1, 1, 1] 4\n",
      "[1, 1, 0, 0, 0] 3\n",
      "[1, 1, 0, 0, 1] 4\n",
      "[0, 1, 1, 0, 1] 4\n",
      "[0, 1, 0, 1, 1] 4\n",
      "[1, 1, 0, 1, 0] 4\n",
      "[1, 0, 0, 1, 1] 4\n",
      "[0, 0, 0, 1, 0] 2\n",
      "O algoritmo com 5 genes demorou 0.001225199999993265 segundos\n"
     ]
    }
   ],
   "source": [
    "inicio = time.perf_counter()\n",
    "\n",
    "for n in range(NUM_CANDIDATOS):\n",
    "    candidato = individuo_cb(NUM_GENES)\n",
    "    fobj = funcao_objetivo_cb(candidato)\n",
    "    print(candidato, fobj)\n",
    "    \n",
    "fim = time.perf_counter()\n",
    "\n",
    "print(\"O algoritmo com\", NUM_GENES,\"genes demorou\", fim - inicio, \"segundos\")"
   ]
  },
  {
   "cell_type": "markdown",
   "id": "619741e1-2e33-4d59-93ce-29ff3dec637a",
   "metadata": {},
   "source": [
    "Vale lembrar que o objetivo deste primeiro algoritmo usado é encontrar o maior resultado da soma das casas da nossa caixa binária. Ele faz isso através de tentativa e erro, por isso, o esperado é que o tempo que ele demora para ser executado irá aumentar conforme mais casas e/ou mais possibilidades de números nessas casas (mas o problema não seria uma caixa binária nesse caso)."
   ]
  },
  {
   "cell_type": "code",
   "execution_count": null,
   "id": "b2a66f52-fffd-4585-9059-fa7099c76e03",
   "metadata": {},
   "outputs": [],
   "source": []
  }
 ],
 "metadata": {
  "kernelspec": {
   "display_name": "ilumpy",
   "language": "python",
   "name": "ilumpy"
  },
  "language_info": {
   "codemirror_mode": {
    "name": "ipython",
    "version": 3
   },
   "file_extension": ".py",
   "mimetype": "text/x-python",
   "name": "python",
   "nbconvert_exporter": "python",
   "pygments_lexer": "ipython3",
   "version": "3.9.7"
  }
 },
 "nbformat": 4,
 "nbformat_minor": 5
}
