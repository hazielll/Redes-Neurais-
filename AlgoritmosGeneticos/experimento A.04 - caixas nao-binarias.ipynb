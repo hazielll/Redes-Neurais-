{
 "cells": [
  {
   "cell_type": "markdown",
   "metadata": {},
   "source": [
    "Problema das caixas não-binárias\n",
    "================================\n",
    "\n"
   ]
  },
  {
   "cell_type": "markdown",
   "metadata": {},
   "source": [
    "## Objetivo\n",
    "\n"
   ]
  },
  {
   "cell_type": "markdown",
   "metadata": {},
   "source": [
    "Encontrar uma solução para o problema das caixas não-binárias usando um algoritmo genético. Considere 4 caixas. Considere que cada caixa pode ter um valor inteiro dentro do conjunto [0, 100].\n",
    "\n"
   ]
  },
  {
   "cell_type": "markdown",
   "metadata": {},
   "source": [
    "## Descrição do problema\n",
    "\n"
   ]
  },
  {
   "cell_type": "markdown",
   "metadata": {},
   "source": [
    "O problema das caixas não-binárias é simples: nós temos um certo número de caixas e cada uma pode conter um número inteiro. O objetivo é encontrar uma combinação de caixas onde a soma dos valores contidos dentro delas é máximo.\n",
    "\n"
   ]
  },
  {
   "cell_type": "markdown",
   "metadata": {},
   "source": [
    "## Importações\n",
    "\n"
   ]
  },
  {
   "cell_type": "code",
   "execution_count": 1,
   "metadata": {},
   "outputs": [],
   "source": [
    "# Funções e bibliotecas necessárias para o funcionamento do algorítimo\n",
    "\n",
    "from funcoes import populacao_cnb\n",
    "from funcoes import funcao_objetivo_pop_cnb as funcao_objetivo_pop\n",
    "from funcoes import selecao_roleta_max as funcao_selecao\n",
    "from funcoes import cruzamento_ponto_simples as funcao_cruzamento\n",
    "from funcoes import mutacao_cnb\n",
    "import random"
   ]
  },
  {
   "cell_type": "markdown",
   "metadata": {},
   "source": [
    "## Códigos e discussão\n",
    "\n"
   ]
  },
  {
   "cell_type": "code",
   "execution_count": 2,
   "metadata": {},
   "outputs": [],
   "source": [
    "# Constantes da busca\n",
    "\n",
    "tamanho_pop = 6  #Define o tamanho da população inicial que desejamos\n",
    "num_geracoes = 1000   # O número de vezes que serão geradas populações com o tamanho e o número de genes passados anteriormente. \n",
    "#É a variável mais importante quando queremos uma população final específica\n",
    "chance_cruzamento = 0.5  # Porcentagem que define a chance na qual determinados genes serão passados. Também define que os cruzamentos serão feitos em pares e sem ultrapassar a quantidade total de individuos da população\n",
    "chance_mutacao = 0.05 # Porcentagem de ocorrer uma mutação em um gene e alterar o seu valor\n",
    "\n",
    "# Constantes do problema\n",
    "num_genes = 4    #O número de genes de cada indivíduo\n",
    "valor_max_caixa = 100  #Valor máximo que pode ser atingido por um gene"
   ]
  },
  {
   "cell_type": "code",
   "execution_count": 3,
   "metadata": {},
   "outputs": [],
   "source": [
    "def cria_populacao_inicial(tamanho, n_genes):\n",
    "    return populacao_cnb(tamanho, n_genes, valor_max_caixa)\n",
    "\n",
    "def funcao_mutacao(individuo):\n",
    "    return mutacao_cnb(individuo, valor_max_caixa)"
   ]
  },
  {
   "cell_type": "code",
   "execution_count": 4,
   "metadata": {
    "tags": []
   },
   "outputs": [
    {
     "name": "stdout",
     "output_type": "stream",
     "text": [
      "População inicial:\n",
      "[[80, 94, 28, 91], [50, 50, 99, 58], [70, 29, 78, 75], [30, 37, 84, 60], [58, 27, 41, 24], [67, 32, 23, 67]]\n",
      "\n",
      "População final:\n",
      "[[92, 70, 97, 56], [92, 70, 97, 56], [92, 70, 97, 56], [92, 70, 97, 56], [92, 21, 97, 44], [92, 37, 97, 44]]\n"
     ]
    }
   ],
   "source": [
    "populacao = cria_populacao_inicial(tamanho_pop, num_genes) # Criação da população inicial\n",
    "\n",
    "print(\"População inicial:\")\n",
    "print(populacao)\n",
    "#usamos estes prints para verificar nossa população inicial\n",
    "\n",
    "for n in range(num_geracoes):\n",
    "    fitness = funcao_objetivo_pop(populacao)\n",
    "    populacao = funcao_selecao(populacao, fitness)\n",
    "    \n",
    "    pais = populacao[0::2]\n",
    "    maes = populacao[1::2]\n",
    "\n",
    "# Etapa de cruzamento    \n",
    "    contador = 0\n",
    "    for pai, mae in zip(pais, maes):\n",
    "        if random.random() < chance_cruzamento:\n",
    "            filho1, filho2 = funcao_cruzamento(pai, mae)\n",
    "            populacao[contador] = filho1\n",
    "            populacao[contador + 1] = filho2\n",
    "            # vai acontecer cruzamento\n",
    "        contador = contador + 2\n",
    "        \n",
    "# Etapa de mutação    \n",
    "    for n in range(len(populacao)):\n",
    "        if random.random() <= chance_mutacao:\n",
    "            individuo = populacao[n]\n",
    "            #print()\n",
    "            #print(individuo)\n",
    "            populacao[n] = funcao_mutacao(individuo)\n",
    "            #print(populacao[n])\n",
    "            #print()\n",
    "\n",
    "# no caso deste problema, o princípio é semelhante ao da caixa binária. no entanto, neste caso, ao invés do valor\n",
    "# possível em cada um dos espaços das caixas serem apenas 0 ou 1, o intervalo possível vai de 0 até 100.\n",
    "\n",
    "# População final após as gerações serem realizadas\n",
    "print()\n",
    "print(\"População final:\")\n",
    "print(populacao)"
   ]
  },
  {
   "cell_type": "markdown",
   "metadata": {},
   "source": [
    "## Conclusão\n",
    "\n",
    "Este algoritmo precisa de um grande volume de gerações a fim de encontrar o resultado desejado, isto ocorre principalmente devido aos diversos valores e às mutações que pode ocorrer neles. Assim, não é uma boa opção para este tipo de problema, visto que o número extenso de possibilidades de valor em cada casa apresenta uma grande variação. "
   ]
  },
  {
   "cell_type": "markdown",
   "metadata": {},
   "source": [
    "## Playground\n",
    "\n"
   ]
  },
  {
   "cell_type": "code",
   "execution_count": null,
   "metadata": {},
   "outputs": [],
   "source": []
  }
 ],
 "metadata": {
  "kernelspec": {
   "display_name": "ilumpy",
   "language": "python",
   "name": "ilumpy"
  },
  "language_info": {
   "codemirror_mode": {
    "name": "ipython",
    "version": 3
   },
   "file_extension": ".py",
   "mimetype": "text/x-python",
   "name": "python",
   "nbconvert_exporter": "python",
   "pygments_lexer": "ipython3",
   "version": "3.9.7"
  },
  "org": null
 },
 "nbformat": 4,
 "nbformat_minor": 4
}
