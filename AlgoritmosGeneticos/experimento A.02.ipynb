{
 "cells": [
  {
   "cell_type": "markdown",
   "id": "06a3f58e-2756-4bd9-a8b7-beac9a966524",
   "metadata": {},
   "source": [
    "Busca em grade\n",
    "==============\n",
    "\n"
   ]
  },
  {
   "cell_type": "markdown",
   "id": "18d5f61b-4e39-45dc-b6c0-89df1251e25e",
   "metadata": {},
   "source": [
    "## Introdução\n",
    "\n"
   ]
  },
  {
   "cell_type": "markdown",
   "id": "3630995e-7bf8-4c5d-ac84-fb9ba12d0075",
   "metadata": {},
   "source": [
    "Uma forma de se encontrar uma solução para um problema de otimização é realizando uma `busca em grade`. Uma busca em grade nada mais é do que testar exaustivamente todas as combinações possíveis entre um ou mais conjunto de parâmetros.\n",
    "\n",
    "Vamos supor que você queira testar dois parâmetros em um problema de otimização, $p$ e $q$. Os valores possíveis para $p$ e $q$ estão exibidos abaixo:\n",
    "\n",
    "$p = \\{0, 1, 2\\}$\n",
    "\n",
    "$q = \\{a, b, c\\}$\n",
    "\n",
    "Em uma busca em grade, nós iremos testar todas as combinações entre $p$ e $q$, sendo elas: $(0, a)$, $(0, b)$, $(0,c)$, $(1, a)$, $(1, b)$, $(1,c)$, $(2, a)$, $(2, b)$ e $(2,c)$.\n",
    "\n",
    "Um algoritmo de busca em grade segue os seguintes passos:\n",
    "\n",
    "1.  Definir quais são os parâmetros e quais são os valores possíveis para cada parâmetro\n",
    "\n",
    "2.  Computar e armazenar o resultado da função objetivo para todas as combinações possíveis dos parâmetros definidos no passo 1\n",
    "\n",
    "3.  Retornar ao usuário a combinação de parâmetros que teve o melhor resultado durante a busca.\n",
    "\n"
   ]
  },
  {
   "cell_type": "markdown",
   "id": "b47b7fff-7475-477a-9758-2c6c27bd309e",
   "metadata": {},
   "source": [
    "## Reflexões\n",
    "\n"
   ]
  },
  {
   "cell_type": "markdown",
   "id": "556e288f-974e-4d91-9fe0-f8fb0f61d56f",
   "metadata": {},
   "source": [
    "Você diria que o algoritmo de busca em grade é determinístico ou probabilístico?\n",
    "\n",
    "Será que a busca em grade é capaz de encontrar mínimos (ou máximos) da função objetivo?\n",
    "\n",
    "O que você espera da performance do algoritmo de busca em grade? Como a performance varia com o número de parâmetros e o número de itens nos conjuntos de valores de cada parâmetro?\n",
    "\n"
   ]
  },
  {
   "cell_type": "markdown",
   "id": "973f382a-c1cf-4748-8f69-b71fbb234904",
   "metadata": {},
   "source": [
    "## Objetivo\n",
    "\n"
   ]
  },
  {
   "cell_type": "markdown",
   "id": "96c55448-1e32-42a4-b83c-340d296121be",
   "metadata": {},
   "source": [
    "Encontrar uma solução para o problema das caixas binárias usando o algoritmo de busca em grade. Considere 4 caixas.\n",
    "\n"
   ]
  },
  {
   "cell_type": "markdown",
   "id": "36f53687-1c3a-4e33-91ea-8989d23621e6",
   "metadata": {},
   "source": [
    "## Descrição do problema\n",
    "\n"
   ]
  },
  {
   "cell_type": "markdown",
   "id": "d803dcba-f236-490f-8add-ee8883c3f527",
   "metadata": {},
   "source": [
    "O problema das caixas binárias é simples: nós temos um certo número de caixas e cada uma pode conter um valor do conjunto $\\{0, 1\\}$. O objetivo é encontrar uma combinação de caixas onde a soma dos valores contidos dentro delas é máximo.\n",
    "\n"
   ]
  },
  {
   "cell_type": "markdown",
   "id": "df68bfa8-7fba-4c8b-adb3-d907fcd1f00f",
   "metadata": {},
   "source": [
    "## Importações\n",
    "\n"
   ]
  },
  {
   "cell_type": "code",
   "execution_count": 7,
   "id": "f2084608-e412-42ee-81cd-938ae19f7551",
   "metadata": {},
   "outputs": [],
   "source": [
    "import itertools"
   ]
  },
  {
   "cell_type": "markdown",
   "id": "6e7b8528-d09d-4b0c-b1df-f824528021a7",
   "metadata": {},
   "source": [
    "## Códigos e discussão\n",
    "\n"
   ]
  },
  {
   "cell_type": "code",
   "execution_count": 8,
   "id": "3f6cf438-d807-44e3-a321-6d12adc62fa2",
   "metadata": {},
   "outputs": [],
   "source": [
    "# Lista para representar indivíduo de 4 células/espaços\n",
    "\n",
    "def caixa():\n",
    "    '''Gera um gene valido para o problema das caixas binárias\n",
    "    \n",
    "    Argumentos:\n",
    "    \n",
    "    Retornar: Um valor zero ou um.\n",
    "    '''\n",
    "    \n",
    "    lista = [0,1]\n",
    "    gene = random.choice(lista)\n",
    "    return gene\n",
    "    #pass # Enquanto a função não foi completada, colocamos pass para a função não fazer nada.\n",
    "\n",
    "def individuo(n):\n",
    "    '''Gera um individuo para o problema das caixasa binárias.\n",
    "    \n",
    "    Argumentos:\n",
    "    n: número de genes do indivíduo\n",
    "    \n",
    "    Retornar: Uma lista com n genes. Cada gene é um valor zero ou um\n",
    "    '''\n",
    "    individuo = []\n",
    "    for i in range(n):\n",
    "        gene = caixa()\n",
    "        individuo.append(gene)\n",
    "    return individuo\n",
    "    #pass\n",
    "\n",
    "def funcao_objetivo(individuo):\n",
    "    '''Computa a função objetivo no problema das caixas binárias\n",
    "    \n",
    "    Argumentos: \n",
    "    individuo: lista contendo os genes das caixas binarias \n",
    "    \n",
    "    Retornar: Um valor representando a soma dos genes do individuo\n",
    "    '''\n",
    "    return sum(individuo)\n"
   ]
  },
  {
   "cell_type": "code",
   "execution_count": 9,
   "id": "1e5c3d03-eff3-4042-80e0-95176f358e43",
   "metadata": {},
   "outputs": [
    {
     "name": "stdout",
     "output_type": "stream",
     "text": [
      "[0, 0, 0, 0] 0\n",
      "[0, 0, 0, 1] 1\n",
      "[0, 0, 1, 0] 1\n",
      "[0, 0, 1, 1] 2\n",
      "[0, 1, 0, 0] 1\n",
      "[0, 1, 0, 1] 2\n",
      "[0, 1, 1, 0] 2\n",
      "[0, 1, 1, 1] 3\n",
      "[1, 0, 0, 0] 1\n",
      "[1, 0, 0, 1] 2\n",
      "[1, 0, 1, 0] 2\n",
      "[1, 0, 1, 1] 3\n",
      "[1, 1, 0, 0] 2\n",
      "[1, 1, 0, 1] 3\n",
      "[1, 1, 1, 0] 3\n",
      "[1, 1, 1, 1] 4\n"
     ]
    }
   ],
   "source": [
    "for gene1 in [0,1]:\n",
    "    for gene2 in [0,1]:\n",
    "        for gene3 in [0,1]:\n",
    "            for gene4 in [0,1]:\n",
    "                individuo = [gene1, gene2, gene3, gene4]\n",
    "                objetivo = funcao_objetivo(individuo)\n",
    "                print(individuo,objetivo)"
   ]
  },
  {
   "cell_type": "code",
   "execution_count": 10,
   "id": "17e9f330-257b-489b-89a0-8e7f951b8531",
   "metadata": {},
   "outputs": [
    {
     "name": "stdout",
     "output_type": "stream",
     "text": [
      "(0, 0, 0, 0) 0\n",
      "(0, 0, 0, 1) 1\n",
      "(0, 0, 1, 0) 1\n",
      "(0, 0, 1, 1) 2\n",
      "(0, 1, 0, 0) 1\n",
      "(0, 1, 0, 1) 2\n",
      "(0, 1, 1, 0) 2\n",
      "(0, 1, 1, 1) 3\n",
      "(1, 0, 0, 0) 1\n",
      "(1, 0, 0, 1) 2\n",
      "(1, 0, 1, 0) 2\n",
      "(1, 0, 1, 1) 3\n",
      "(1, 1, 0, 0) 2\n",
      "(1, 1, 0, 1) 3\n",
      "(1, 1, 1, 0) 3\n",
      "(1, 1, 1, 1) 4\n"
     ]
    }
   ],
   "source": [
    "for individuo in itertools.product([0,1],[0,1],[0,1],[0,1]):\n",
    "    \n",
    "    objetivo = funcao_objetivo(individuo)\n",
    "    print(individuo,objetivo)"
   ]
  },
  {
   "cell_type": "markdown",
   "id": "d913a795-25c2-4b93-bf25-155afca8ec91",
   "metadata": {},
   "source": [
    "## Conclusão\n",
    "\n",
    "Através do módulo *itertools*, o qual possibilita a criação de iteradores complexos com maior otimização, solucionamos o problema da caixa binária novamente. A diferença entre este método e o primeiro consiste "
   ]
  },
  {
   "cell_type": "markdown",
   "id": "8dbee555-2e97-4832-8a26-d0ce75b68b6b",
   "metadata": {},
   "source": [
    "## Playground\n",
    "\n"
   ]
  },
  {
   "cell_type": "code",
   "execution_count": null,
   "id": "84162f60-7849-4b3b-8621-64307ff13c4f",
   "metadata": {},
   "outputs": [],
   "source": []
  }
 ],
 "metadata": {
  "kernelspec": {
   "display_name": "ilumpy",
   "language": "python",
   "name": "ilumpy"
  },
  "language_info": {
   "codemirror_mode": {
    "name": "ipython",
    "version": 3
   },
   "file_extension": ".py",
   "mimetype": "text/x-python",
   "name": "python",
   "nbconvert_exporter": "python",
   "pygments_lexer": "ipython3",
   "version": "3.9.7"
  }
 },
 "nbformat": 4,
 "nbformat_minor": 5
}
