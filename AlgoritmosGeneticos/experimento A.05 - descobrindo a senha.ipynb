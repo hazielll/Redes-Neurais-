{
 "cells": [
  {
   "cell_type": "markdown",
   "metadata": {},
   "source": [
    "Descobrindo a senha\n",
    "===================\n",
    "\n"
   ]
  },
  {
   "cell_type": "markdown",
   "metadata": {},
   "source": [
    "## Objetivo\n",
    "\n"
   ]
  },
  {
   "cell_type": "markdown",
   "metadata": {},
   "source": [
    "Usar um algoritmo genético para descobrir uma senha.\n",
    "\n"
   ]
  },
  {
   "cell_type": "markdown",
   "metadata": {},
   "source": [
    "## Descrição do problema\n",
    "\n"
   ]
  },
  {
   "cell_type": "markdown",
   "metadata": {},
   "source": [
    "Neste problema, a função objetivo deve saber a senha correta e quantificar de alguma maneira o quão perto ou longe os palpites estão da solução (veja que isso é algo que não temos no mundo real. Nenhum site irá te dizer se você está acertando ou errando seu palpite). O critério de parada deste problema é quando a senha for descoberta.\n",
    "\n"
   ]
  },
  {
   "cell_type": "markdown",
   "metadata": {},
   "source": [
    "## Importações\n",
    "\n"
   ]
  },
  {
   "cell_type": "code",
   "execution_count": 1,
   "metadata": {},
   "outputs": [],
   "source": [
    "from funcoes import populacao_inicial_senha\n",
    "from funcoes import funcao_objetivo_pop_senha\n",
    "from funcoes import selecao_torneio_min\n",
    "from funcoes import cruzamento_ponto_simples as funcao_cruzamento\n",
    "from funcoes import mutacao_senha\n",
    "import random"
   ]
  },
  {
   "cell_type": "markdown",
   "metadata": {},
   "source": [
    "## Códigos e discussão\n",
    "\n"
   ]
  },
  {
   "cell_type": "code",
   "execution_count": 2,
   "metadata": {},
   "outputs": [],
   "source": [
    "### CONSTANTES\n",
    "\n",
    "# relacionadas à busca\n",
    "TAMANHO_POP = 50\n",
    "NUM_GERACOES = 2000\n",
    "CHANCE_CRUZAMENTO = 0.5\n",
    "CHANCE_MUTACAO = 0.05\n",
    "NUM_COMBATENTES_NO_TORNEIO = 3\n",
    "\n",
    "# relacionadas ao problema a ser resulvido\n",
    "SENHA = \"correcthorsebatterystaple\"\n",
    "LETRAS_POSSIVEIS = \"abcdefghijklmnopqrstuvwxyz\"\n",
    "NUM_GENES = len(SENHA)"
   ]
  },
  {
   "cell_type": "code",
   "execution_count": 3,
   "metadata": {},
   "outputs": [],
   "source": [
    "# funções locais\n",
    "\n",
    "def cria_populacao_inicial(tamanho, tamanho_senha):\n",
    "    return populacao_inicial_senha(tamanho, tamanho_senha, LETRAS_POSSIVEIS)\n",
    "\n",
    "def funcao_objetivo_pop(populacao):\n",
    "    return funcao_objetivo_pop_senha(populacao, SENHA)\n",
    "\n",
    "def funcao_selecao(populacao, fitness):\n",
    "    return selecao_torneio_min(populacao, fitness, NUM_COMBATENTES_NO_TORNEIO)\n",
    "\n",
    "def funcao_mutacao(individuo):\n",
    "    return mutacao_senha(individuo, LETRAS_POSSIVEIS)"
   ]
  },
  {
   "cell_type": "code",
   "execution_count": 4,
   "metadata": {},
   "outputs": [
    {
     "name": "stdout",
     "output_type": "stream",
     "text": [
      "Progresso da melhor senha já vista:\n",
      "pwqyctqhompbciyfmqqvuiimo - fitness: 137\n",
      "jklyctqhompbciyfmqktzmmli - fitness: 134\n",
      "brlthvscospbciyfmqktzmmli - fitness: 124\n",
      "brlthvscospbciyfmqktzmmlf - fitness: 121\n",
      "brlthvscospbcfvpmqktzmmli - fitness: 108\n",
      "brlthvscospbcfvpmqktzmmlf - fitness: 105\n",
      "brlthvscospbcfvplqktzmmlf - fitness: 104\n",
      "brlthvsfospbcfvpmqktzmmlf - fitness: 102\n",
      "brqthvscosqbcfvpmqktzmmlf - fitness: 99\n",
      "brqthvsfospbcfvpmqktzmmlf - fitness: 97\n",
      "brqthvsfospbcfvplqktzmmlf - fitness: 96\n",
      "brqthvsfospbcdvplqktzmmlf - fitness: 94\n",
      "brqthvsfospecfvplqktzmmlf - fitness: 93\n",
      "brqthvsfospecdvplqktzmmlf - fitness: 91\n",
      "brqthvsfospecdvplqqtzmmlf - fitness: 85\n",
      "brqthvsfospecdvpaqqtzmmlf - fitness: 82\n",
      "brqthvsfospecdvpaqqtzcmlf - fitness: 72\n",
      "brqthvsfospecdtpaqqtzcmlf - fitness: 70\n",
      "brrthvsfospecdtpaqqtzcmlf - fitness: 69\n",
      "brrqhvsfospecdtpaqqtzcmlf - fitness: 68\n",
      "crrqhvsfospecdtpaqqtzcmlf - fitness: 67\n",
      "crrthvsfospecdtpaqvtzcmlf - fitness: 63\n",
      "crrqhvsfospecdtpaqvtzcmlf - fitness: 62\n",
      "crrqhhsfospecdtpaqvtzcmlf - fitness: 48\n",
      "crrqhhsfospecdtpaqvtzcrlf - fitness: 47\n",
      "crrqhhsfospecdtpdqvtzcmlf - fitness: 45\n",
      "crrqhhsfospecdtpdqvtzcrlf - fitness: 44\n",
      "crrqhdsfospecdtpdqvtzcrlf - fitness: 40\n",
      "crrqhdtfospecdtpdqvtzcrlf - fitness: 39\n",
      "crrqcdtfospecdtpdqvtzcrlf - fitness: 38\n",
      "crrqcdtfospecdtpdqvtocrlf - fitness: 37\n",
      "crrqcdtfostecdtpdqvtocrlf - fitness: 35\n",
      "crrrcdtfosrecdtpdqvtocrlf - fitness: 34\n",
      "crrqedtfosrecdtpdqvtocrlf - fitness: 33\n",
      "crrqedtgosrecdtpdqvtocrlf - fitness: 32\n",
      "crrqedtfosrecctpdqwtocrlf - fitness: 31\n",
      "cprqedtgosrecdtpdqvtocrlf - fitness: 30\n",
      "cprqedtgosrecctpdqwtocrlf - fitness: 28\n",
      "cprqedtgosrecctpdqvtwcrlf - fitness: 27\n",
      "cprqedtgossecctpdqvtwcrlf - fitness: 26\n",
      "cprqedtgossecctpeqvtwcrlf - fitness: 25\n",
      "corqedtgossecctpeqvtwcrlf - fitness: 24\n",
      "corqedtgorsecctpeqvtwcrlf - fitness: 23\n",
      "corqedtgorsecctpeqxtwcrlf - fitness: 21\n",
      "corqedtgorsecctpeqxtwcolf - fitness: 20\n",
      "corqedtgorsecctveqxtwcolf - fitness: 18\n",
      "corqedtgorsecctteqxtwcolf - fitness: 16\n",
      "corqedtgorsecctterxtwcolf - fitness: 15\n",
      "corqedtgorsecctterxtwcplf - fitness: 14\n",
      "corqedtgorsecctterxtrcplf - fitness: 13\n",
      "corqedtgorsecctterxtucplf - fitness: 12\n",
      "corqedtgorsecctterxttbplf - fitness: 10\n",
      "corqedtgorsecbtterxttbplf - fitness: 9\n",
      "corqedtgorsecbtteryttbplf - fitness: 8\n",
      "corqedtgorsecbtteryttbple - fitness: 7\n",
      "corqedtgorsebbtteryttbple - fitness: 6\n",
      "corredtgorsebbtteryttbple - fitness: 5\n",
      "corredtgorsebbtterystbple - fitness: 4\n",
      "corredtgorsebbtterystaple - fitness: 3\n",
      "corredtgorsebatterystaple - fitness: 2\n",
      "correctgorsebatterystaple - fitness: 1\n",
      "correcthorsebatterystaple - fitness: 0\n",
      "\n",
      "Melhor palpite da senha encontrado:\n",
      "correcthorsebatterystaple\n"
     ]
    }
   ],
   "source": [
    "populacao = cria_populacao_inicial(TAMANHO_POP, NUM_GENES)\n",
    "\n",
    "melhor_fitness_ja_visto = float(\"inf\")  # é assim que escrevemos infinito em python\n",
    "\n",
    "print(\"Progresso da melhor senha já vista:\")\n",
    "\n",
    "for n in range(NUM_GERACOES):    \n",
    "    \n",
    "    # Seleção\n",
    "    fitness = funcao_objetivo_pop(populacao)\n",
    "    populacao = funcao_selecao(populacao, fitness)\n",
    "    \n",
    "    # Cruzamento\n",
    "    pais = populacao[0::2]\n",
    "    maes = populacao[1::2]\n",
    "    \n",
    "    contador = 0\n",
    "\n",
    "# neste primeiro loop, determinamos a fitness da \n",
    "    \n",
    "    for pai, mae in zip(pais, maes):\n",
    "        if random.random() <= CHANCE_CRUZAMENTO:\n",
    "            filho1, filho2 = funcao_cruzamento(pai, mae)\n",
    "            populacao[contador] = filho1\n",
    "            populacao[contador + 1] = filho2\n",
    "        \n",
    "        contador = contador + 2   \n",
    "        \n",
    "    # Mutação\n",
    "    for n in range(len(populacao)):\n",
    "        if random.random() <= CHANCE_MUTACAO:\n",
    "            individuo = populacao[n]\n",
    "            populacao[n] = funcao_mutacao(individuo)            \n",
    "            \n",
    "    # melhor individuo já visto até agora\n",
    "    fitness = funcao_objetivo_pop(populacao)\n",
    "    menor_fitness = min(fitness)\n",
    "    if menor_fitness < melhor_fitness_ja_visto:        \n",
    "        posicao = fitness.index(menor_fitness)\n",
    "        melhor_individuo_ja_visto = populacao[posicao]\n",
    "        melhor_fitness_ja_visto = menor_fitness\n",
    "        print(\"\".join(melhor_individuo_ja_visto), \"- fitness:\", melhor_fitness_ja_visto)\n",
    "\n",
    "print()\n",
    "print(\"Melhor palpite da senha encontrado:\")\n",
    "print(\"\".join(melhor_individuo_ja_visto))"
   ]
  },
  {
   "cell_type": "markdown",
   "metadata": {},
   "source": [
    "## Conclusão\n",
    "\n"
   ]
  },
  {
   "cell_type": "markdown",
   "metadata": {},
   "source": [
    "Nesta atividade, utilizamos os conceitos aprendidos de algoritmos genéticos a fim de descobrir uma senha alfabética por tentativa e erro, em conjunto a mutações no algoritmo, a fim dele utilizar seus erros/feedback recebido pela função fitness e se aproximar cada vez mais da determinada string/senha.\n",
    "A maior dificuldade que tive neste bloco tinha sido entender o porquê de criarmos funções dentro de funções, mas após pesquisar sobre esse tópico pude entender que: utilizamos funções internas para \"influenciar\" comportamentos específicos dentro de uma função. Ou seja, ao utilizar funções internas, elas podem acessar variáveis da função externa, mesmo após a função externa já ter sido concluída. "
   ]
  },
  {
   "cell_type": "markdown",
   "metadata": {},
   "source": [
    "## Playground\n",
    "\n"
   ]
  },
  {
   "cell_type": "code",
   "execution_count": null,
   "metadata": {},
   "outputs": [],
   "source": []
  }
 ],
 "metadata": {
  "kernelspec": {
   "display_name": "ilumpy",
   "language": "python",
   "name": "ilumpy"
  },
  "language_info": {
   "codemirror_mode": {
    "name": "ipython",
    "version": 3
   },
   "file_extension": ".py",
   "mimetype": "text/x-python",
   "name": "python",
   "nbconvert_exporter": "python",
   "pygments_lexer": "ipython3",
   "version": "3.9.7"
  },
  "org": null
 },
 "nbformat": 4,
 "nbformat_minor": 4
}
