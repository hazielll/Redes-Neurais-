{
 "cells": [
  {
   "cell_type": "markdown",
   "metadata": {},
   "source": [
    "Busca aleatória\n",
    "===============\n",
    "\n"
   ]
  },
  {
   "cell_type": "markdown",
   "metadata": {},
   "source": [
    "## Introdução\n",
    "\n"
   ]
  },
  {
   "cell_type": "markdown",
   "metadata": {},
   "source": [
    "Uma forma simples de se encontrar uma solução para um `problema de otimização` é realizando uma `busca aleatória`. A busca aleatória, como o próprio nome sugere, é um algoritmo onde um certo `espaço de busca` é definido de onde sorteamos `candidatos` de soluções para o problema.\n",
    "\n",
    "Diferentemente de outros algoritmos de otimização, a busca aleatória não requer que a `função objetivo` seja diferenciável nem contínua.\n",
    "\n",
    "Um algoritmo de busca aleatória segue os seguintes passos:\n",
    "\n",
    "1.  Um espaço de busca é definido\n",
    "\n",
    "2.  Um candidato $x$ dentro do espaço de busca é sorteado aleatoriamente\n",
    "\n",
    "3.  Calculamos o resultado da função objetivo para o candidato $x$\n",
    "\n",
    "4.  Se o critério de parada for atingido, encerrar o algoritmo e retornar ao usuário o candidato que teve melhor resultado durante a busca. Do contrário, retorne ao passo 2\n",
    "\n"
   ]
  },
  {
   "cell_type": "markdown",
   "metadata": {},
   "source": [
    "## Reflexões\n",
    "\n"
   ]
  },
  {
   "cell_type": "markdown",
   "metadata": {},
   "source": [
    "Você diria que o algoritmo de busca aleatória é determinístico ou probabilístico?\n",
    "\n",
    "Em quais problemas de otimização você acredita que este algoritmo seja uma boa escolha?\n",
    "\n",
    "Em quais problemas de otimização você acredita que este algoritmo seja uma má escolha?\n",
    "\n"
   ]
  },
  {
   "cell_type": "markdown",
   "metadata": {},
   "source": [
    "## Objetivo\n",
    "\n"
   ]
  },
  {
   "cell_type": "markdown",
   "metadata": {},
   "source": [
    "Encontrar uma solução para o problema das caixas binárias usando o algoritmo de busca aleatória. Considere 4 caixas.\n",
    "\n"
   ]
  },
  {
   "cell_type": "markdown",
   "metadata": {},
   "source": [
    "## Descrição do problema\n",
    "\n"
   ]
  },
  {
   "cell_type": "markdown",
   "metadata": {},
   "source": [
    "O problema das caixas binárias é simples: nós temos um certo número de caixas e cada uma pode conter um valor do conjunto $\\{0, 1\\}$. O objetivo é encontrar uma combinação de caixas onde a soma dos valores contidos dentro delas é máximo.\n",
    "\n",
    "Como todo problema computacional, um dos desafios é &ldquo;traduzir&rdquo; o problema dado em estruturas computacionais.\n",
    "\n"
   ]
  },
  {
   "cell_type": "markdown",
   "metadata": {},
   "source": [
    "## Importações\n",
    "\n"
   ]
  },
  {
   "cell_type": "code",
   "execution_count": 1,
   "metadata": {},
   "outputs": [],
   "source": [
    "import random"
   ]
  },
  {
   "cell_type": "markdown",
   "metadata": {},
   "source": [
    "## Códigos e discussão\n",
    "\n"
   ]
  },
  {
   "cell_type": "code",
   "execution_count": 1,
   "metadata": {},
   "outputs": [],
   "source": [
    "# Lista para representar indivíduo de 4 células/espaços\n",
    "\n",
    "def caixa():\n",
    "    '''Gera um gene valido para o problema das caixas binárias\n",
    "    \n",
    "    Argumentos:\n",
    "    \n",
    "    Retornar: Um valor zero ou um.\n",
    "    '''\n",
    "    \n",
    "    lista = [0,1]\n",
    "    gene = random.choice(lista)\n",
    "    return gene\n",
    "    #pass # Enquanto a função não foi completada, colocamos pass para a função não fazer nada.\n",
    "\n",
    "# nesta primeira função, definimos uma lista com os valores possíveis a serem escolhidos para nosso problema\n",
    "# após isso, atribuímos cada um desses dois valores ao nosso gene de maneira aleatória, por meio\n",
    "# do módulo .choice da biblioteca random\n",
    "# finalmente, retornamos o gene formado pela nossa seleção binária aleatória.\n",
    "    \n",
    "def individuo(n):\n",
    "    '''Gera um individuo para o problema das caixasa binárias.\n",
    "    \n",
    "    Argumentos:\n",
    "    n: número de genes do indivíduo\n",
    "    \n",
    "    Retornar: Uma lista com n genes. Cada gene é um valor zero ou um\n",
    "    '''\n",
    "    individuo = []\n",
    "    for i in range(n):\n",
    "        gene = caixa()\n",
    "        individuo.append(gene)\n",
    "    return individuo\n",
    "    #pass\n",
    "\n",
    "# nesta segunda função, definimos uma lista, a princípio vazia, a qual irá conter nossos indivíduos 0 e 1\n",
    "# após isso, utilizamos um for loop a fim de iterar os n valores a serem escolhidos por nós, os quais definirão\n",
    "# o número de indivíduos que será colocado nessa lista. após isso, essa lista será retornada.\n",
    "    \n",
    "def funcao_objetivo(individuo):\n",
    "    '''Computa a função objetivo no problema das caixas binárias\n",
    "    \n",
    "    Argumentos: \n",
    "    individuo: lista contendo os genes das caixas binarias \n",
    "    \n",
    "    Retornar: Um valor representando a soma dos genes do individuo\n",
    "    '''\n",
    "    return sum(individuo)\n",
    "\n",
    "\n",
    "# esta terceira função consiste em retornar a soma dos elementos dentro da lista de indivíduos."
   ]
  },
  {
   "cell_type": "code",
   "execution_count": 3,
   "metadata": {},
   "outputs": [],
   "source": [
    "# Constantes\n",
    "num_candidatos = 8\n",
    "num_genes = 4"
   ]
  },
  {
   "cell_type": "code",
   "execution_count": 4,
   "metadata": {},
   "outputs": [
    {
     "name": "stdout",
     "output_type": "stream",
     "text": [
      "[0, 1, 0, 1] 2\n",
      "[1, 0, 1, 1] 3\n",
      "[1, 0, 1, 1] 3\n",
      "[0, 0, 1, 1] 2\n",
      "[0, 0, 1, 1] 2\n",
      "[1, 1, 1, 0] 3\n",
      "[1, 1, 0, 0] 2\n",
      "[1, 1, 0, 0] 2\n"
     ]
    }
   ],
   "source": [
    "# Escrever os passos em código\n",
    "for n in range(num_candidatos):\n",
    "    candidato = individuo(num_genes)\n",
    "    objetivo = funcao_objetivo(candidato)\n",
    "    print(candidato, objetivo)"
   ]
  },
  {
   "cell_type": "markdown",
   "metadata": {},
   "source": [
    "## Conclusão\n",
    "Resolvemos o problema das caixas binárias com 4 caixas através de busca aleatória. Primeiro criamos 3 funções para poder utilizá-las com os valores desejados e customizados/generalizados para o problema dado em aula.\n",
    "Como pudemos observar, a busca aleatória é um método exaustivo para a resolução do nosso problema. Assim, para acharmos os resultados desejados, precisamos fazer nosso código trabalhar por tentativa e erro. Apesar desse método funcionar, quanto maior o número de dados, encontrar o melhor resultado se tornará mais difícil e exaustivo para nós. Por isso, devemos procurar métodos melhores e que funcionem independente do número de dados."
   ]
  },
  {
   "cell_type": "markdown",
   "metadata": {},
   "source": [
    "## Playground\n",
    "\n"
   ]
  },
  {
   "cell_type": "code",
   "execution_count": null,
   "metadata": {},
   "outputs": [],
   "source": []
  }
 ],
 "metadata": {
  "kernelspec": {
   "display_name": "ilumpy",
   "language": "python",
   "name": "ilumpy"
  },
  "language_info": {
   "codemirror_mode": {
    "name": "ipython",
    "version": 3
   },
   "file_extension": ".py",
   "mimetype": "text/x-python",
   "name": "python",
   "nbconvert_exporter": "python",
   "pygments_lexer": "ipython3",
   "version": "3.9.7"
  },
  "org": null
 },
 "nbformat": 4,
 "nbformat_minor": 4
}
